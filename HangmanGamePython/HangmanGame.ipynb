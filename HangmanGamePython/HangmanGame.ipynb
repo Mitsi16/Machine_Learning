{
 "cells": [
  {
   "cell_type": "code",
   "execution_count": 1,
   "metadata": {},
   "outputs": [],
   "source": [
    "import random\n",
    "import sys"
   ]
  },
  {
   "cell_type": "code",
   "execution_count": 2,
   "metadata": {},
   "outputs": [],
   "source": [
    "# we have made a list of some words of animal’s name\n",
    "word_list = ['cat', 'lion', 'elephant', 'zebra', 'giraffe', 'fish', 'owl']\n",
    "\n",
    "#created an array of chosen_word where the correct word guessed by the player would be stored\n",
    "chosen_word = []\n",
    "\n",
    "# we randomize single word from the list that would be randomly given to the player to guess\n",
    "secret_word = random.choice(word_list)\n",
    "\n",
    "#length of the secretWord would be stored in variable length_word\n",
    "length = len(secret_word)\n",
    "\n",
    "#these would be the only letters player can enter\n",
    "letters = 'abcdefghijklmnopqrstuvwxyz'\n",
    "\n",
    "#the above entered letter would be stored in an array called letter_storage\n",
    "letter_storage = []"
   ]
  },
  {
   "cell_type": "code",
   "execution_count": null,
   "metadata": {},
   "outputs": [
    {
     "name": "stdout",
     "output_type": "stream",
     "text": [
      "Let us play the Hangman game\n",
      "\n"
     ]
    }
   ],
   "source": [
    "def start():\n",
    "    print(\"Let us play the Hangman game\\n\")\n",
    "    while True:\n",
    "        gameChoice = input(\"Are you interested?\\n\").upper()\n",
    "        if gameChoice == \"YES\" or gameChoice == \"Y\":\n",
    "            break\n",
    "        elif gameChoice == \"NO\" or gameChoice == \"N\":\n",
    "            sys.exit(\"Until next time!\")\n",
    "        else:\n",
    "            print(\"Please Answer only Yes or No\")\n",
    "            continue\n",
    "start()\n",
    "\n",
    "\n",
    "#function that would describe some detail about the secret word that would be guessed by the player\n",
    "def info():\n",
    "    for character in secret_word:\n",
    "        \n",
    "        \n",
    "        # printing blanks for each letter in secret word by displaying '-' symbol\n",
    "        chosen_word.append(\"-\")\n",
    "        \n",
    "        print(\"The word you need to guess has\", length, \"characters\")\n",
    "        print(\"Make sure to enter 1 letter from a-z at a time\\n\\n\")\n",
    "        print(chosen_word)\n",
    "    \n",
    "    \n",
    "#function that would take input from user, maximum attempt is 10 times, check for the entered letter\n",
    "def guessGame():\n",
    "    guess_taken = 1\n",
    "    \n",
    "    #while the attempts are less than 10 the below execution would be done\n",
    "    while guess_taken < 10: \n",
    "        \n",
    "        guess = input(\"Enter a letter\\n\").lower()\n",
    "        \n",
    "        #checking input if other than what is stored in variable letters\n",
    "        if not guess in letters:\n",
    "            print(\"Enter a letter from a-z alphabet\")\n",
    "            \n",
    "        #checking if letter has been already entered\n",
    "        elif guess in letter_storage: \n",
    "            print(\"You have already entered that letter!\")\n",
    "            \n",
    "        else: \n",
    "            #if the entered letter exists in the secretWord it will append every time it is correctly entered and will display a message\n",
    "            letter_storage.append(guess)\n",
    "            \n",
    "            if guess in secret_word:\n",
    "                print(\"Correct choice!\")\n",
    "                \n",
    "                for x in range(0, length): \n",
    "                    #if the guessed word is same as the secretWord then it will store in the chosen_word\n",
    "                    if secret_word[x] == guess: \n",
    "                        chosen_word[x] = guess \n",
    "                        print(chosen_word)\n",
    "                        \n",
    "                #when no blank is left, player wins\n",
    "                if not '-' in chosen_word: \n",
    "                    print(\"You won!\")\n",
    "                    break\n",
    "                    \n",
    "            else:\n",
    "                print(\"The letter is not in the word. Try Again!\")\n",
    "                guess_taken += 1\n",
    "                if guess_taken == 10: \n",
    "                    print(\"You Lost\")\n",
    "                    print(\"You have no more attempts left, the word was\",   secret_word)\n",
    "                    \n",
    "info()\n",
    "guessGame()\n",
    "print(\"Game Over!\")"
   ]
  },
  {
   "cell_type": "code",
   "execution_count": null,
   "metadata": {},
   "outputs": [],
   "source": []
  }
 ],
 "metadata": {
  "kernelspec": {
   "display_name": "Python 3",
   "language": "python",
   "name": "python3"
  },
  "language_info": {
   "codemirror_mode": {
    "name": "ipython",
    "version": 3
   },
   "file_extension": ".py",
   "mimetype": "text/x-python",
   "name": "python",
   "nbconvert_exporter": "python",
   "pygments_lexer": "ipython3",
   "version": "3.7.1"
  }
 },
 "nbformat": 4,
 "nbformat_minor": 2
}
