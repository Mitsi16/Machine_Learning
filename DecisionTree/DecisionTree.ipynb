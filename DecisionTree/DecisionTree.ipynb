{
 "cells": [
  {
   "cell_type": "markdown",
   "metadata": {},
   "source": [
    "**Iris Data Set**- *This dataset is perhaps the best known database to be found in the pattern recognition literature. \n",
    "The dataset contains 3 classes of 50 instances each, where each class refers to a type of Iris plant namely Setosa, Versicolor and Virginica. One is linearly separable from the other 2 and the latter are not linearly separable from each other.*\n",
    "\n",
    "*The predicted attribute is the class of Iris plant.*\n",
    "\n",
    "*The dataset can be loaded from the sklearn library itself.*"
   ]
  },
  {
   "cell_type": "code",
   "execution_count": 1,
   "metadata": {},
   "outputs": [],
   "source": [
    "#importing all the neccessary libraries\n",
    "import numpy as np\n",
    "import pandas as pd\n",
    "import matplotlib.pyplot as plt\n",
    "import seaborn as sns\n",
    "%matplotlib inline"
   ]
  },
  {
   "cell_type": "code",
   "execution_count": 2,
   "metadata": {},
   "outputs": [],
   "source": [
    "#loading data from sklearn library\n",
    "from sklearn.datasets import load_iris\n",
    "iris = load_iris()"
   ]
  },
  {
   "cell_type": "code",
   "execution_count": 3,
   "metadata": {},
   "outputs": [],
   "source": [
    "X = pd.DataFrame(iris.data, columns = iris.feature_names)\n",
    "#Making y a Categorical type since it contains categories for 3 different species\n",
    "y = pd.Categorical.from_codes(iris.target, iris.target_names)"
   ]
  },
  {
   "cell_type": "code",
   "execution_count": 4,
   "metadata": {},
   "outputs": [
    {
     "data": {
      "text/html": [
       "<div>\n",
       "<style scoped>\n",
       "    .dataframe tbody tr th:only-of-type {\n",
       "        vertical-align: middle;\n",
       "    }\n",
       "\n",
       "    .dataframe tbody tr th {\n",
       "        vertical-align: top;\n",
       "    }\n",
       "\n",
       "    .dataframe thead th {\n",
       "        text-align: right;\n",
       "    }\n",
       "</style>\n",
       "<table border=\"1\" class=\"dataframe\">\n",
       "  <thead>\n",
       "    <tr style=\"text-align: right;\">\n",
       "      <th></th>\n",
       "      <th>sepal length (cm)</th>\n",
       "      <th>sepal width (cm)</th>\n",
       "      <th>petal length (cm)</th>\n",
       "      <th>petal width (cm)</th>\n",
       "    </tr>\n",
       "  </thead>\n",
       "  <tbody>\n",
       "    <tr>\n",
       "      <th>0</th>\n",
       "      <td>5.1</td>\n",
       "      <td>3.5</td>\n",
       "      <td>1.4</td>\n",
       "      <td>0.2</td>\n",
       "    </tr>\n",
       "    <tr>\n",
       "      <th>1</th>\n",
       "      <td>4.9</td>\n",
       "      <td>3.0</td>\n",
       "      <td>1.4</td>\n",
       "      <td>0.2</td>\n",
       "    </tr>\n",
       "    <tr>\n",
       "      <th>2</th>\n",
       "      <td>4.7</td>\n",
       "      <td>3.2</td>\n",
       "      <td>1.3</td>\n",
       "      <td>0.2</td>\n",
       "    </tr>\n",
       "    <tr>\n",
       "      <th>3</th>\n",
       "      <td>4.6</td>\n",
       "      <td>3.1</td>\n",
       "      <td>1.5</td>\n",
       "      <td>0.2</td>\n",
       "    </tr>\n",
       "    <tr>\n",
       "      <th>4</th>\n",
       "      <td>5.0</td>\n",
       "      <td>3.6</td>\n",
       "      <td>1.4</td>\n",
       "      <td>0.2</td>\n",
       "    </tr>\n",
       "  </tbody>\n",
       "</table>\n",
       "</div>"
      ],
      "text/plain": [
       "   sepal length (cm)  sepal width (cm)  petal length (cm)  petal width (cm)\n",
       "0                5.1               3.5                1.4               0.2\n",
       "1                4.9               3.0                1.4               0.2\n",
       "2                4.7               3.2                1.3               0.2\n",
       "3                4.6               3.1                1.5               0.2\n",
       "4                5.0               3.6                1.4               0.2"
      ]
     },
     "execution_count": 4,
     "metadata": {},
     "output_type": "execute_result"
    }
   ],
   "source": [
    "#checking first few of the independent variables\n",
    "X.head()"
   ]
  },
  {
   "cell_type": "code",
   "execution_count": 8,
   "metadata": {},
   "outputs": [
    {
     "data": {
      "text/html": [
       "<div>\n",
       "<style scoped>\n",
       "    .dataframe tbody tr th:only-of-type {\n",
       "        vertical-align: middle;\n",
       "    }\n",
       "\n",
       "    .dataframe tbody tr th {\n",
       "        vertical-align: top;\n",
       "    }\n",
       "\n",
       "    .dataframe thead th {\n",
       "        text-align: right;\n",
       "    }\n",
       "</style>\n",
       "<table border=\"1\" class=\"dataframe\">\n",
       "  <thead>\n",
       "    <tr style=\"text-align: right;\">\n",
       "      <th></th>\n",
       "      <th>setosa</th>\n",
       "      <th>versicolor</th>\n",
       "      <th>virginica</th>\n",
       "    </tr>\n",
       "  </thead>\n",
       "  <tbody>\n",
       "    <tr>\n",
       "      <th>0</th>\n",
       "      <td>1</td>\n",
       "      <td>0</td>\n",
       "      <td>0</td>\n",
       "    </tr>\n",
       "    <tr>\n",
       "      <th>1</th>\n",
       "      <td>1</td>\n",
       "      <td>0</td>\n",
       "      <td>0</td>\n",
       "    </tr>\n",
       "    <tr>\n",
       "      <th>2</th>\n",
       "      <td>1</td>\n",
       "      <td>0</td>\n",
       "      <td>0</td>\n",
       "    </tr>\n",
       "    <tr>\n",
       "      <th>3</th>\n",
       "      <td>1</td>\n",
       "      <td>0</td>\n",
       "      <td>0</td>\n",
       "    </tr>\n",
       "    <tr>\n",
       "      <th>4</th>\n",
       "      <td>1</td>\n",
       "      <td>0</td>\n",
       "      <td>0</td>\n",
       "    </tr>\n",
       "  </tbody>\n",
       "</table>\n",
       "</div>"
      ],
      "text/plain": [
       "   setosa  versicolor  virginica\n",
       "0       1           0          0\n",
       "1       1           0          0\n",
       "2       1           0          0\n",
       "3       1           0          0\n",
       "4       1           0          0"
      ]
     },
     "execution_count": 8,
     "metadata": {},
     "output_type": "execute_result"
    }
   ],
   "source": [
    "#checking records of the target variable\n",
    "y = pd.get_dummies(y)\n",
    "y.head()"
   ]
  },
  {
   "cell_type": "code",
   "execution_count": 9,
   "metadata": {},
   "outputs": [
    {
     "name": "stdout",
     "output_type": "stream",
     "text": [
      "<class 'pandas.core.frame.DataFrame'>\n",
      "RangeIndex: 150 entries, 0 to 149\n",
      "Data columns (total 4 columns):\n",
      "sepal length (cm)    150 non-null float64\n",
      "sepal width (cm)     150 non-null float64\n",
      "petal length (cm)    150 non-null float64\n",
      "petal width (cm)     150 non-null float64\n",
      "dtypes: float64(4)\n",
      "memory usage: 4.8 KB\n"
     ]
    }
   ],
   "source": [
    "X.info()"
   ]
  },
  {
   "cell_type": "code",
   "execution_count": 10,
   "metadata": {},
   "outputs": [
    {
     "name": "stdout",
     "output_type": "stream",
     "text": [
      "<class 'pandas.core.frame.DataFrame'>\n",
      "RangeIndex: 150 entries, 0 to 149\n",
      "Data columns (total 3 columns):\n",
      "setosa        150 non-null uint8\n",
      "versicolor    150 non-null uint8\n",
      "virginica     150 non-null uint8\n",
      "dtypes: uint8(3)\n",
      "memory usage: 530.0 bytes\n"
     ]
    }
   ],
   "source": [
    "y.info()"
   ]
  },
  {
   "cell_type": "markdown",
   "metadata": {},
   "source": [
    "There are all non null values"
   ]
  },
  {
   "cell_type": "code",
   "execution_count": 11,
   "metadata": {},
   "outputs": [
    {
     "data": {
      "text/html": [
       "<div>\n",
       "<style scoped>\n",
       "    .dataframe tbody tr th:only-of-type {\n",
       "        vertical-align: middle;\n",
       "    }\n",
       "\n",
       "    .dataframe tbody tr th {\n",
       "        vertical-align: top;\n",
       "    }\n",
       "\n",
       "    .dataframe thead th {\n",
       "        text-align: right;\n",
       "    }\n",
       "</style>\n",
       "<table border=\"1\" class=\"dataframe\">\n",
       "  <thead>\n",
       "    <tr style=\"text-align: right;\">\n",
       "      <th></th>\n",
       "      <th>sepal length (cm)</th>\n",
       "      <th>sepal width (cm)</th>\n",
       "      <th>petal length (cm)</th>\n",
       "      <th>petal width (cm)</th>\n",
       "    </tr>\n",
       "  </thead>\n",
       "  <tbody>\n",
       "    <tr>\n",
       "      <th>count</th>\n",
       "      <td>150.000000</td>\n",
       "      <td>150.000000</td>\n",
       "      <td>150.000000</td>\n",
       "      <td>150.000000</td>\n",
       "    </tr>\n",
       "    <tr>\n",
       "      <th>mean</th>\n",
       "      <td>5.843333</td>\n",
       "      <td>3.057333</td>\n",
       "      <td>3.758000</td>\n",
       "      <td>1.199333</td>\n",
       "    </tr>\n",
       "    <tr>\n",
       "      <th>std</th>\n",
       "      <td>0.828066</td>\n",
       "      <td>0.435866</td>\n",
       "      <td>1.765298</td>\n",
       "      <td>0.762238</td>\n",
       "    </tr>\n",
       "    <tr>\n",
       "      <th>min</th>\n",
       "      <td>4.300000</td>\n",
       "      <td>2.000000</td>\n",
       "      <td>1.000000</td>\n",
       "      <td>0.100000</td>\n",
       "    </tr>\n",
       "    <tr>\n",
       "      <th>25%</th>\n",
       "      <td>5.100000</td>\n",
       "      <td>2.800000</td>\n",
       "      <td>1.600000</td>\n",
       "      <td>0.300000</td>\n",
       "    </tr>\n",
       "    <tr>\n",
       "      <th>50%</th>\n",
       "      <td>5.800000</td>\n",
       "      <td>3.000000</td>\n",
       "      <td>4.350000</td>\n",
       "      <td>1.300000</td>\n",
       "    </tr>\n",
       "    <tr>\n",
       "      <th>75%</th>\n",
       "      <td>6.400000</td>\n",
       "      <td>3.300000</td>\n",
       "      <td>5.100000</td>\n",
       "      <td>1.800000</td>\n",
       "    </tr>\n",
       "    <tr>\n",
       "      <th>max</th>\n",
       "      <td>7.900000</td>\n",
       "      <td>4.400000</td>\n",
       "      <td>6.900000</td>\n",
       "      <td>2.500000</td>\n",
       "    </tr>\n",
       "  </tbody>\n",
       "</table>\n",
       "</div>"
      ],
      "text/plain": [
       "       sepal length (cm)  sepal width (cm)  petal length (cm)  \\\n",
       "count         150.000000        150.000000         150.000000   \n",
       "mean            5.843333          3.057333           3.758000   \n",
       "std             0.828066          0.435866           1.765298   \n",
       "min             4.300000          2.000000           1.000000   \n",
       "25%             5.100000          2.800000           1.600000   \n",
       "50%             5.800000          3.000000           4.350000   \n",
       "75%             6.400000          3.300000           5.100000   \n",
       "max             7.900000          4.400000           6.900000   \n",
       "\n",
       "       petal width (cm)  \n",
       "count        150.000000  \n",
       "mean           1.199333  \n",
       "std            0.762238  \n",
       "min            0.100000  \n",
       "25%            0.300000  \n",
       "50%            1.300000  \n",
       "75%            1.800000  \n",
       "max            2.500000  "
      ]
     },
     "execution_count": 11,
     "metadata": {},
     "output_type": "execute_result"
    }
   ],
   "source": [
    "X.describe()"
   ]
  },
  {
   "cell_type": "code",
   "execution_count": 12,
   "metadata": {
    "scrolled": true
   },
   "outputs": [
    {
     "data": {
      "text/plain": [
       "<bound method DataFrame.nunique of      setosa  versicolor  virginica\n",
       "0         1           0          0\n",
       "1         1           0          0\n",
       "2         1           0          0\n",
       "3         1           0          0\n",
       "4         1           0          0\n",
       "5         1           0          0\n",
       "6         1           0          0\n",
       "7         1           0          0\n",
       "8         1           0          0\n",
       "9         1           0          0\n",
       "10        1           0          0\n",
       "11        1           0          0\n",
       "12        1           0          0\n",
       "13        1           0          0\n",
       "14        1           0          0\n",
       "15        1           0          0\n",
       "16        1           0          0\n",
       "17        1           0          0\n",
       "18        1           0          0\n",
       "19        1           0          0\n",
       "20        1           0          0\n",
       "21        1           0          0\n",
       "22        1           0          0\n",
       "23        1           0          0\n",
       "24        1           0          0\n",
       "25        1           0          0\n",
       "26        1           0          0\n",
       "27        1           0          0\n",
       "28        1           0          0\n",
       "29        1           0          0\n",
       "..      ...         ...        ...\n",
       "120       0           0          1\n",
       "121       0           0          1\n",
       "122       0           0          1\n",
       "123       0           0          1\n",
       "124       0           0          1\n",
       "125       0           0          1\n",
       "126       0           0          1\n",
       "127       0           0          1\n",
       "128       0           0          1\n",
       "129       0           0          1\n",
       "130       0           0          1\n",
       "131       0           0          1\n",
       "132       0           0          1\n",
       "133       0           0          1\n",
       "134       0           0          1\n",
       "135       0           0          1\n",
       "136       0           0          1\n",
       "137       0           0          1\n",
       "138       0           0          1\n",
       "139       0           0          1\n",
       "140       0           0          1\n",
       "141       0           0          1\n",
       "142       0           0          1\n",
       "143       0           0          1\n",
       "144       0           0          1\n",
       "145       0           0          1\n",
       "146       0           0          1\n",
       "147       0           0          1\n",
       "148       0           0          1\n",
       "149       0           0          1\n",
       "\n",
       "[150 rows x 3 columns]>"
      ]
     },
     "execution_count": 12,
     "metadata": {},
     "output_type": "execute_result"
    }
   ],
   "source": [
    "y.nunique"
   ]
  },
  {
   "cell_type": "markdown",
   "metadata": {},
   "source": [
    "## Data Visualization"
   ]
  },
  {
   "cell_type": "markdown",
   "metadata": {},
   "source": [
    "**Plotting histogram for petal width**"
   ]
  },
  {
   "cell_type": "code",
   "execution_count": 13,
   "metadata": {},
   "outputs": [
    {
     "data": {
      "image/png": "[encoded data removed]",
      "text/plain": [
       "<Figure size 432x288 with 1 Axes>"
      ]
     },
     "metadata": {
      "needs_background": "light"
     },
     "output_type": "display_data"
    }
   ],
   "source": [
    "X['petal width (cm)'].plot.hist()\n",
    "plt.show()"
   ]
  },
  {
   "cell_type": "markdown",
   "metadata": {},
   "source": [
    "**Training the model**"
   ]
  },
  {
   "cell_type": "code",
   "execution_count": 14,
   "metadata": {},
   "outputs": [],
   "source": [
    "from sklearn.model_selection import train_test_split\n",
    "X_train, X_test, y_train, y_test = train_test_split(X, y, test_size=0.2, random_state=1)"
   ]
  },
  {
   "cell_type": "code",
   "execution_count": 15,
   "metadata": {},
   "outputs": [],
   "source": [
    "from sklearn.tree import DecisionTreeClassifier\n",
    "dt = DecisionTreeClassifier()\n",
    "dt.fit(X_train, y_train)\n",
    "prediction =  dt.predict(X_test)"
   ]
  },
  {
   "cell_type": "markdown",
   "metadata": {},
   "source": [
    "**Model Evaluation**"
   ]
  },
  {
   "cell_type": "code",
   "execution_count": 16,
   "metadata": {},
   "outputs": [
    {
     "name": "stdout",
     "output_type": "stream",
     "text": [
      "              precision    recall  f1-score   support\n",
      "\n",
      "           0       1.00      1.00      1.00        11\n",
      "           1       1.00      0.92      0.96        13\n",
      "           2       0.86      1.00      0.92         6\n",
      "\n",
      "   micro avg       0.97      0.97      0.97        30\n",
      "   macro avg       0.95      0.97      0.96        30\n",
      "weighted avg       0.97      0.97      0.97        30\n",
      " samples avg       0.97      0.97      0.97        30\n",
      "\n"
     ]
    }
   ],
   "source": [
    "from sklearn.metrics import classification_report, confusion_matrix\n",
    "from sklearn.metrics import accuracy_score\n",
    "print(classification_report(y_test, prediction))"
   ]
  },
  {
   "cell_type": "code",
   "execution_count": 17,
   "metadata": {},
   "outputs": [
    {
     "name": "stdout",
     "output_type": "stream",
     "text": [
      "[[11  0  0]\n",
      " [ 0 12  1]\n",
      " [ 0  0  6]]\n"
     ]
    }
   ],
   "source": [
    "print(confusion_matrix(y_test.values.argmax(axis=1), prediction.argmax(axis=1)))"
   ]
  },
  {
   "cell_type": "code",
   "execution_count": 18,
   "metadata": {},
   "outputs": [
    {
     "data": {
      "text/plain": [
       "0.9666666666666667"
      ]
     },
     "execution_count": 18,
     "metadata": {},
     "output_type": "execute_result"
    }
   ],
   "source": [
    "score = accuracy_score(y_test, prediction)\n",
    "score"
   ]
  },
  {
   "cell_type": "markdown",
   "metadata": {},
   "source": [
    "**The accuracy of our model is 96%, which is pretty good.**"
   ]
  },
  {
   "cell_type": "markdown",
   "metadata": {},
   "source": [
    "## Tree Visualization"
   ]
  },
  {
   "cell_type": "markdown",
   "metadata": {},
   "source": [
    "Scikit learn has some built-in visualization capabilities for decision trees. We might not use it often as it requires us to install graphviz. "
   ]
  },
  {
   "cell_type": "code",
   "execution_count": 19,
   "metadata": {},
   "outputs": [],
   "source": [
    "from IPython.display import Image  \n",
    "from sklearn.externals.six import StringIO  \n",
    "from sklearn.tree import export_graphviz\n",
    "import pydot \n",
    "import graphviz\n",
    "from sklearn import tree"
   ]
  },
  {
   "cell_type": "code",
   "execution_count": 20,
   "metadata": {},
   "outputs": [
    {
     "data": {
      "image/svg+xml": [
       "<?xml version=\"1.0\" encoding=\"UTF-8\" standalone=\"no\"?>\r\n",
       "<!DOCTYPE svg PUBLIC \"-//W3C//DTD SVG 1.1//EN\"\r\n",
       " \"http://www.w3.org/Graphics/SVG/1.1/DTD/svg11.dtd\">\r\n",
       "<!-- Generated by graphviz version 2.38.0 (20140413.2041)\r\n",
       " -->\r\n",
       "<!-- Title: Tree Pages: 1 -->\r\n",
       "<svg width=\"615pt\" height=\"761pt\"\r\n",
       " viewBox=\"0.00 0.00 615.00 761.00\" xmlns=\"http://www.w3.org/2000/svg\" xmlns:xlink=\"http://www.w3.org/1999/xlink\">\r\n",
       "<g id=\"graph0\" class=\"graph\" transform=\"scale(1 1) rotate(0) translate(4 757)\">\r\n",
       "<title>Tree</title>\r\n",
       "<polygon fill=\"white\" stroke=\"none\" points=\"-4,4 -4,-757 611,-757 611,4 -4,4\"/>\r\n",
       "<!-- 0 -->\r\n",
       "<g id=\"node1\" class=\"node\"><title>0</title>\r\n",
       "<path fill=\"none\" stroke=\"black\" d=\"M295.5,-753C295.5,-753 153.5,-753 153.5,-753 147.5,-753 141.5,-747 141.5,-741 141.5,-741 141.5,-667 141.5,-667 141.5,-661 147.5,-655 153.5,-655 153.5,-655 295.5,-655 295.5,-655 301.5,-655 307.5,-661 307.5,-667 307.5,-667 307.5,-741 307.5,-741 307.5,-747 301.5,-753 295.5,-753\"/>\r\n",
       "<text text-anchor=\"middle\" x=\"224.5\" y=\"-737.8\" font-family=\"Helvetica,sans-Serif\" font-size=\"14.00\">petal length (cm) &lt;= 2.6</text>\r\n",
       "<text text-anchor=\"middle\" x=\"224.5\" y=\"-722.8\" font-family=\"Helvetica,sans-Serif\" font-size=\"14.00\">gini = 0.443</text>\r\n",
       "<text text-anchor=\"middle\" x=\"224.5\" y=\"-707.8\" font-family=\"Helvetica,sans-Serif\" font-size=\"14.00\">samples = 120</text>\r\n",
       "<text text-anchor=\"middle\" x=\"224.5\" y=\"-692.8\" font-family=\"Helvetica,sans-Serif\" font-size=\"14.00\">value = [[81, 39]</text>\r\n",
       "<text text-anchor=\"middle\" x=\"224.5\" y=\"-677.8\" font-family=\"Helvetica,sans-Serif\" font-size=\"14.00\">[83, 37]</text>\r\n",
       "<text text-anchor=\"middle\" x=\"224.5\" y=\"-662.8\" font-family=\"Helvetica,sans-Serif\" font-size=\"14.00\">[76, 44]]</text>\r\n",
       "</g>\r\n",
       "<!-- 1 -->\r\n",
       "<g id=\"node2\" class=\"node\"><title>1</title>\r\n",
       "<path fill=\"#e58139\" stroke=\"black\" d=\"M189,-611.5C189,-611.5 104,-611.5 104,-611.5 98,-611.5 92,-605.5 92,-599.5 92,-599.5 92,-540.5 92,-540.5 92,-534.5 98,-528.5 104,-528.5 104,-528.5 189,-528.5 189,-528.5 195,-528.5 201,-534.5 201,-540.5 201,-540.5 201,-599.5 201,-599.5 201,-605.5 195,-611.5 189,-611.5\"/>\r\n",
       "<text text-anchor=\"middle\" x=\"146.5\" y=\"-596.3\" font-family=\"Helvetica,sans-Serif\" font-size=\"14.00\">gini = 0.0</text>\r\n",
       "<text text-anchor=\"middle\" x=\"146.5\" y=\"-581.3\" font-family=\"Helvetica,sans-Serif\" font-size=\"14.00\">samples = 39</text>\r\n",
       "<text text-anchor=\"middle\" x=\"146.5\" y=\"-566.3\" font-family=\"Helvetica,sans-Serif\" font-size=\"14.00\">value = [[0, 39]</text>\r\n",
       "<text text-anchor=\"middle\" x=\"146.5\" y=\"-551.3\" font-family=\"Helvetica,sans-Serif\" font-size=\"14.00\">[39, 0]</text>\r\n",
       "<text text-anchor=\"middle\" x=\"146.5\" y=\"-536.3\" font-family=\"Helvetica,sans-Serif\" font-size=\"14.00\">[39, 0]]</text>\r\n",
       "</g>\r\n",
       "<!-- 0&#45;&gt;1 -->\r\n",
       "<g id=\"edge1\" class=\"edge\"><title>0&#45;&gt;1</title>\r\n",
       "<path fill=\"none\" stroke=\"black\" d=\"M196.12,-654.972C189.52,-643.804 182.482,-631.893 175.842,-620.656\"/>\r\n",
       "<polygon fill=\"black\" stroke=\"black\" points=\"178.719,-618.645 170.619,-611.817 172.693,-622.206 178.719,-618.645\"/>\r\n",
       "<text text-anchor=\"middle\" x=\"164.393\" y=\"-632.329\" font-family=\"Helvetica,sans-Serif\" font-size=\"14.00\">True</text>\r\n",
       "</g>\r\n",
       "<!-- 2 -->\r\n",
       "<g id=\"node3\" class=\"node\"><title>2</title>\r\n",
       "<path fill=\"#e58139\" fill-opacity=\"0.254902\" stroke=\"black\" d=\"M375.5,-619C375.5,-619 231.5,-619 231.5,-619 225.5,-619 219.5,-613 219.5,-607 219.5,-607 219.5,-533 219.5,-533 219.5,-527 225.5,-521 231.5,-521 231.5,-521 375.5,-521 375.5,-521 381.5,-521 387.5,-527 387.5,-533 387.5,-533 387.5,-607 387.5,-607 387.5,-613 381.5,-619 375.5,-619\"/>\r\n",
       "<text text-anchor=\"middle\" x=\"303.5\" y=\"-603.8\" font-family=\"Helvetica,sans-Serif\" font-size=\"14.00\">petal width (cm) &lt;= 1.65</text>\r\n",
       "<text text-anchor=\"middle\" x=\"303.5\" y=\"-588.8\" font-family=\"Helvetica,sans-Serif\" font-size=\"14.00\">gini = 0.331</text>\r\n",
       "<text text-anchor=\"middle\" x=\"303.5\" y=\"-573.8\" font-family=\"Helvetica,sans-Serif\" font-size=\"14.00\">samples = 81</text>\r\n",
       "<text text-anchor=\"middle\" x=\"303.5\" y=\"-558.8\" font-family=\"Helvetica,sans-Serif\" font-size=\"14.00\">value = [[81, 0]</text>\r\n",
       "<text text-anchor=\"middle\" x=\"303.5\" y=\"-543.8\" font-family=\"Helvetica,sans-Serif\" font-size=\"14.00\">[44, 37]</text>\r\n",
       "<text text-anchor=\"middle\" x=\"303.5\" y=\"-528.8\" font-family=\"Helvetica,sans-Serif\" font-size=\"14.00\">[37, 44]]</text>\r\n",
       "</g>\r\n",
       "<!-- 0&#45;&gt;2 -->\r\n",
       "<g id=\"edge2\" class=\"edge\"><title>0&#45;&gt;2</title>\r\n",
       "<path fill=\"none\" stroke=\"black\" d=\"M253.244,-654.972C258.527,-646.145 264.087,-636.855 269.506,-627.8\"/>\r\n",
       "<polygon fill=\"black\" stroke=\"black\" points=\"272.513,-629.592 274.645,-619.214 266.506,-625.997 272.513,-629.592\"/>\r\n",
       "<text text-anchor=\"middle\" x=\"280.735\" y=\"-639.761\" font-family=\"Helvetica,sans-Serif\" font-size=\"14.00\">False</text>\r\n",
       "</g>\r\n",
       "<!-- 3 -->\r\n",
       "<g id=\"node4\" class=\"node\"><title>3</title>\r\n",
       "<path fill=\"#e58139\" fill-opacity=\"0.729412\" stroke=\"black\" d=\"M282.5,-485C282.5,-485 132.5,-485 132.5,-485 126.5,-485 120.5,-479 120.5,-473 120.5,-473 120.5,-399 120.5,-399 120.5,-393 126.5,-387 132.5,-387 132.5,-387 282.5,-387 282.5,-387 288.5,-387 294.5,-393 294.5,-399 294.5,-399 294.5,-473 294.5,-473 294.5,-479 288.5,-485 282.5,-485\"/>\r\n",
       "<text text-anchor=\"middle\" x=\"207.5\" y=\"-469.8\" font-family=\"Helvetica,sans-Serif\" font-size=\"14.00\">petal length (cm) &lt;= 4.95</text>\r\n",
       "<text text-anchor=\"middle\" x=\"207.5\" y=\"-454.8\" font-family=\"Helvetica,sans-Serif\" font-size=\"14.00\">gini = 0.12</text>\r\n",
       "<text text-anchor=\"middle\" x=\"207.5\" y=\"-439.8\" font-family=\"Helvetica,sans-Serif\" font-size=\"14.00\">samples = 40</text>\r\n",
       "<text text-anchor=\"middle\" x=\"207.5\" y=\"-424.8\" font-family=\"Helvetica,sans-Serif\" font-size=\"14.00\">value = [[40, 0]</text>\r\n",
       "<text text-anchor=\"middle\" x=\"207.5\" y=\"-409.8\" font-family=\"Helvetica,sans-Serif\" font-size=\"14.00\">[4, 36]</text>\r\n",
       "<text text-anchor=\"middle\" x=\"207.5\" y=\"-394.8\" font-family=\"Helvetica,sans-Serif\" font-size=\"14.00\">[36, 4]]</text>\r\n",
       "</g>\r\n",
       "<!-- 2&#45;&gt;3 -->\r\n",
       "<g id=\"edge3\" class=\"edge\"><title>2&#45;&gt;3</title>\r\n",
       "<path fill=\"none\" stroke=\"black\" d=\"M268.57,-520.972C262.085,-512.054 255.255,-502.663 248.606,-493.52\"/>\r\n",
       "<polygon fill=\"black\" stroke=\"black\" points=\"251.277,-491.243 242.565,-485.214 245.616,-495.36 251.277,-491.243\"/>\r\n",
       "</g>\r\n",
       "<!-- 10 -->\r\n",
       "<g id=\"node11\" class=\"node\"><title>10</title>\r\n",
       "<path fill=\"#e58139\" fill-opacity=\"0.929412\" stroke=\"black\" d=\"M474.5,-485C474.5,-485 324.5,-485 324.5,-485 318.5,-485 312.5,-479 312.5,-473 312.5,-473 312.5,-399 312.5,-399 312.5,-393 318.5,-387 324.5,-387 324.5,-387 474.5,-387 474.5,-387 480.5,-387 486.5,-393 486.5,-399 486.5,-399 486.5,-473 486.5,-473 486.5,-479 480.5,-485 474.5,-485\"/>\r\n",
       "<text text-anchor=\"middle\" x=\"399.5\" y=\"-469.8\" font-family=\"Helvetica,sans-Serif\" font-size=\"14.00\">petal length (cm) &lt;= 4.85</text>\r\n",
       "<text text-anchor=\"middle\" x=\"399.5\" y=\"-454.8\" font-family=\"Helvetica,sans-Serif\" font-size=\"14.00\">gini = 0.032</text>\r\n",
       "<text text-anchor=\"middle\" x=\"399.5\" y=\"-439.8\" font-family=\"Helvetica,sans-Serif\" font-size=\"14.00\">samples = 41</text>\r\n",
       "<text text-anchor=\"middle\" x=\"399.5\" y=\"-424.8\" font-family=\"Helvetica,sans-Serif\" font-size=\"14.00\">value = [[41, 0]</text>\r\n",
       "<text text-anchor=\"middle\" x=\"399.5\" y=\"-409.8\" font-family=\"Helvetica,sans-Serif\" font-size=\"14.00\">[40, 1]</text>\r\n",
       "<text text-anchor=\"middle\" x=\"399.5\" y=\"-394.8\" font-family=\"Helvetica,sans-Serif\" font-size=\"14.00\">[1, 40]]</text>\r\n",
       "</g>\r\n",
       "<!-- 2&#45;&gt;10 -->\r\n",
       "<g id=\"edge10\" class=\"edge\"><title>2&#45;&gt;10</title>\r\n",
       "<path fill=\"none\" stroke=\"black\" d=\"M338.43,-520.972C344.915,-512.054 351.745,-502.663 358.394,-493.52\"/>\r\n",
       "<polygon fill=\"black\" stroke=\"black\" points=\"361.384,-495.36 364.435,-485.214 355.723,-491.243 361.384,-495.36\"/>\r\n",
       "</g>\r\n",
       "<!-- 4 -->\r\n",
       "<g id=\"node5\" class=\"node\"><title>4</title>\r\n",
       "<path fill=\"#e58139\" stroke=\"black\" d=\"M97,-343.5C97,-343.5 12,-343.5 12,-343.5 6,-343.5 0,-337.5 0,-331.5 0,-331.5 0,-272.5 0,-272.5 0,-266.5 6,-260.5 12,-260.5 12,-260.5 97,-260.5 97,-260.5 103,-260.5 109,-266.5 109,-272.5 109,-272.5 109,-331.5 109,-331.5 109,-337.5 103,-343.5 97,-343.5\"/>\r\n",
       "<text text-anchor=\"middle\" x=\"54.5\" y=\"-328.3\" font-family=\"Helvetica,sans-Serif\" font-size=\"14.00\">gini = 0.0</text>\r\n",
       "<text text-anchor=\"middle\" x=\"54.5\" y=\"-313.3\" font-family=\"Helvetica,sans-Serif\" font-size=\"14.00\">samples = 35</text>\r\n",
       "<text text-anchor=\"middle\" x=\"54.5\" y=\"-298.3\" font-family=\"Helvetica,sans-Serif\" font-size=\"14.00\">value = [[35, 0]</text>\r\n",
       "<text text-anchor=\"middle\" x=\"54.5\" y=\"-283.3\" font-family=\"Helvetica,sans-Serif\" font-size=\"14.00\">[0, 35]</text>\r\n",
       "<text text-anchor=\"middle\" x=\"54.5\" y=\"-268.3\" font-family=\"Helvetica,sans-Serif\" font-size=\"14.00\">[35, 0]]</text>\r\n",
       "</g>\r\n",
       "<!-- 3&#45;&gt;4 -->\r\n",
       "<g id=\"edge4\" class=\"edge\"><title>3&#45;&gt;4</title>\r\n",
       "<path fill=\"none\" stroke=\"black\" d=\"M151.831,-386.972C138.117,-375.14 123.437,-362.475 109.744,-350.661\"/>\r\n",
       "<polygon fill=\"black\" stroke=\"black\" points=\"111.668,-347.699 101.81,-343.817 107.095,-352.999 111.668,-347.699\"/>\r\n",
       "</g>\r\n",
       "<!-- 5 -->\r\n",
       "<g id=\"node6\" class=\"node\"><title>5</title>\r\n",
       "<path fill=\"#e58139\" fill-opacity=\"0.517647\" stroke=\"black\" d=\"M283.5,-351C283.5,-351 139.5,-351 139.5,-351 133.5,-351 127.5,-345 127.5,-339 127.5,-339 127.5,-265 127.5,-265 127.5,-259 133.5,-253 139.5,-253 139.5,-253 283.5,-253 283.5,-253 289.5,-253 295.5,-259 295.5,-265 295.5,-265 295.5,-339 295.5,-339 295.5,-345 289.5,-351 283.5,-351\"/>\r\n",
       "<text text-anchor=\"middle\" x=\"211.5\" y=\"-335.8\" font-family=\"Helvetica,sans-Serif\" font-size=\"14.00\">petal width (cm) &lt;= 1.55</text>\r\n",
       "<text text-anchor=\"middle\" x=\"211.5\" y=\"-320.8\" font-family=\"Helvetica,sans-Serif\" font-size=\"14.00\">gini = 0.213</text>\r\n",
       "<text text-anchor=\"middle\" x=\"211.5\" y=\"-305.8\" font-family=\"Helvetica,sans-Serif\" font-size=\"14.00\">samples = 5</text>\r\n",
       "<text text-anchor=\"middle\" x=\"211.5\" y=\"-290.8\" font-family=\"Helvetica,sans-Serif\" font-size=\"14.00\">value = [[5, 0]</text>\r\n",
       "<text text-anchor=\"middle\" x=\"211.5\" y=\"-275.8\" font-family=\"Helvetica,sans-Serif\" font-size=\"14.00\">[4, 1]</text>\r\n",
       "<text text-anchor=\"middle\" x=\"211.5\" y=\"-260.8\" font-family=\"Helvetica,sans-Serif\" font-size=\"14.00\">[1, 4]]</text>\r\n",
       "</g>\r\n",
       "<!-- 3&#45;&gt;5 -->\r\n",
       "<g id=\"edge5\" class=\"edge\"><title>3&#45;&gt;5</title>\r\n",
       "<path fill=\"none\" stroke=\"black\" d=\"M208.955,-386.972C209.206,-378.691 209.47,-370.003 209.728,-361.483\"/>\r\n",
       "<polygon fill=\"black\" stroke=\"black\" points=\"213.234,-361.315 210.039,-351.214 206.238,-361.103 213.234,-361.315\"/>\r\n",
       "</g>\r\n",
       "<!-- 6 -->\r\n",
       "<g id=\"node7\" class=\"node\"><title>6</title>\r\n",
       "<path fill=\"#e58139\" stroke=\"black\" d=\"M104,-209.5C104,-209.5 27,-209.5 27,-209.5 21,-209.5 15,-203.5 15,-197.5 15,-197.5 15,-138.5 15,-138.5 15,-132.5 21,-126.5 27,-126.5 27,-126.5 104,-126.5 104,-126.5 110,-126.5 116,-132.5 116,-138.5 116,-138.5 116,-197.5 116,-197.5 116,-203.5 110,-209.5 104,-209.5\"/>\r\n",
       "<text text-anchor=\"middle\" x=\"65.5\" y=\"-194.3\" font-family=\"Helvetica,sans-Serif\" font-size=\"14.00\">gini = 0.0</text>\r\n",
       "<text text-anchor=\"middle\" x=\"65.5\" y=\"-179.3\" font-family=\"Helvetica,sans-Serif\" font-size=\"14.00\">samples = 3</text>\r\n",
       "<text text-anchor=\"middle\" x=\"65.5\" y=\"-164.3\" font-family=\"Helvetica,sans-Serif\" font-size=\"14.00\">value = [[3, 0]</text>\r\n",
       "<text text-anchor=\"middle\" x=\"65.5\" y=\"-149.3\" font-family=\"Helvetica,sans-Serif\" font-size=\"14.00\">[3, 0]</text>\r\n",
       "<text text-anchor=\"middle\" x=\"65.5\" y=\"-134.3\" font-family=\"Helvetica,sans-Serif\" font-size=\"14.00\">[0, 3]]</text>\r\n",
       "</g>\r\n",
       "<!-- 5&#45;&gt;6 -->\r\n",
       "<g id=\"edge6\" class=\"edge\"><title>5&#45;&gt;6</title>\r\n",
       "<path fill=\"none\" stroke=\"black\" d=\"M158.378,-252.972C145.292,-241.14 131.283,-228.475 118.216,-216.661\"/>\r\n",
       "<polygon fill=\"black\" stroke=\"black\" points=\"120.411,-213.927 110.646,-209.817 115.716,-219.119 120.411,-213.927\"/>\r\n",
       "</g>\r\n",
       "<!-- 7 -->\r\n",
       "<g id=\"node8\" class=\"node\"><title>7</title>\r\n",
       "<path fill=\"#e58139\" fill-opacity=\"0.247059\" stroke=\"black\" d=\"M292.5,-217C292.5,-217 146.5,-217 146.5,-217 140.5,-217 134.5,-211 134.5,-205 134.5,-205 134.5,-131 134.5,-131 134.5,-125 140.5,-119 146.5,-119 146.5,-119 292.5,-119 292.5,-119 298.5,-119 304.5,-125 304.5,-131 304.5,-131 304.5,-205 304.5,-205 304.5,-211 298.5,-217 292.5,-217\"/>\r\n",
       "<text text-anchor=\"middle\" x=\"219.5\" y=\"-201.8\" font-family=\"Helvetica,sans-Serif\" font-size=\"14.00\">sepal length (cm) &lt;= 6.6</text>\r\n",
       "<text text-anchor=\"middle\" x=\"219.5\" y=\"-186.8\" font-family=\"Helvetica,sans-Serif\" font-size=\"14.00\">gini = 0.333</text>\r\n",
       "<text text-anchor=\"middle\" x=\"219.5\" y=\"-171.8\" font-family=\"Helvetica,sans-Serif\" font-size=\"14.00\">samples = 2</text>\r\n",
       "<text text-anchor=\"middle\" x=\"219.5\" y=\"-156.8\" font-family=\"Helvetica,sans-Serif\" font-size=\"14.00\">value = [[2, 0]</text>\r\n",
       "<text text-anchor=\"middle\" x=\"219.5\" y=\"-141.8\" font-family=\"Helvetica,sans-Serif\" font-size=\"14.00\">[1, 1]</text>\r\n",
       "<text text-anchor=\"middle\" x=\"219.5\" y=\"-126.8\" font-family=\"Helvetica,sans-Serif\" font-size=\"14.00\">[1, 1]]</text>\r\n",
       "</g>\r\n",
       "<!-- 5&#45;&gt;7 -->\r\n",
       "<g id=\"edge7\" class=\"edge\"><title>5&#45;&gt;7</title>\r\n",
       "<path fill=\"none\" stroke=\"black\" d=\"M214.411,-252.972C214.918,-244.6 215.451,-235.812 215.973,-227.202\"/>\r\n",
       "<polygon fill=\"black\" stroke=\"black\" points=\"219.466,-227.407 216.578,-217.214 212.479,-226.984 219.466,-227.407\"/>\r\n",
       "</g>\r\n",
       "<!-- 8 -->\r\n",
       "<g id=\"node9\" class=\"node\"><title>8</title>\r\n",
       "<path fill=\"#e58139\" stroke=\"black\" d=\"M198,-83C198,-83 121,-83 121,-83 115,-83 109,-77 109,-71 109,-71 109,-12 109,-12 109,-6 115,-0 121,-0 121,-0 198,-0 198,-0 204,-0 210,-6 210,-12 210,-12 210,-71 210,-71 210,-77 204,-83 198,-83\"/>\r\n",
       "<text text-anchor=\"middle\" x=\"159.5\" y=\"-67.8\" font-family=\"Helvetica,sans-Serif\" font-size=\"14.00\">gini = 0.0</text>\r\n",
       "<text text-anchor=\"middle\" x=\"159.5\" y=\"-52.8\" font-family=\"Helvetica,sans-Serif\" font-size=\"14.00\">samples = 1</text>\r\n",
       "<text text-anchor=\"middle\" x=\"159.5\" y=\"-37.8\" font-family=\"Helvetica,sans-Serif\" font-size=\"14.00\">value = [[1, 0]</text>\r\n",
       "<text text-anchor=\"middle\" x=\"159.5\" y=\"-22.8\" font-family=\"Helvetica,sans-Serif\" font-size=\"14.00\">[0, 1]</text>\r\n",
       "<text text-anchor=\"middle\" x=\"159.5\" y=\"-7.8\" font-family=\"Helvetica,sans-Serif\" font-size=\"14.00\">[1, 0]]</text>\r\n",
       "</g>\r\n",
       "<!-- 7&#45;&gt;8 -->\r\n",
       "<g id=\"edge8\" class=\"edge\"><title>7&#45;&gt;8</title>\r\n",
       "<path fill=\"none\" stroke=\"black\" d=\"M196.302,-118.865C192.137,-110.222 187.787,-101.196 183.597,-92.5012\"/>\r\n",
       "<polygon fill=\"black\" stroke=\"black\" points=\"186.624,-90.7199 179.129,-83.231 180.318,-93.7589 186.624,-90.7199\"/>\r\n",
       "</g>\r\n",
       "<!-- 9 -->\r\n",
       "<g id=\"node10\" class=\"node\"><title>9</title>\r\n",
       "<path fill=\"#e58139\" stroke=\"black\" d=\"M317,-83C317,-83 240,-83 240,-83 234,-83 228,-77 228,-71 228,-71 228,-12 228,-12 228,-6 234,-0 240,-0 240,-0 317,-0 317,-0 323,-0 329,-6 329,-12 329,-12 329,-71 329,-71 329,-77 323,-83 317,-83\"/>\r\n",
       "<text text-anchor=\"middle\" x=\"278.5\" y=\"-67.8\" font-family=\"Helvetica,sans-Serif\" font-size=\"14.00\">gini = 0.0</text>\r\n",
       "<text text-anchor=\"middle\" x=\"278.5\" y=\"-52.8\" font-family=\"Helvetica,sans-Serif\" font-size=\"14.00\">samples = 1</text>\r\n",
       "<text text-anchor=\"middle\" x=\"278.5\" y=\"-37.8\" font-family=\"Helvetica,sans-Serif\" font-size=\"14.00\">value = [[1, 0]</text>\r\n",
       "<text text-anchor=\"middle\" x=\"278.5\" y=\"-22.8\" font-family=\"Helvetica,sans-Serif\" font-size=\"14.00\">[1, 0]</text>\r\n",
       "<text text-anchor=\"middle\" x=\"278.5\" y=\"-7.8\" font-family=\"Helvetica,sans-Serif\" font-size=\"14.00\">[0, 1]]</text>\r\n",
       "</g>\r\n",
       "<!-- 7&#45;&gt;9 -->\r\n",
       "<g id=\"edge9\" class=\"edge\"><title>7&#45;&gt;9</title>\r\n",
       "<path fill=\"none\" stroke=\"black\" d=\"M242.311,-118.865C246.407,-110.222 250.684,-101.196 254.805,-92.5012\"/>\r\n",
       "<polygon fill=\"black\" stroke=\"black\" points=\"258.078,-93.7665 259.198,-83.231 251.752,-90.7687 258.078,-93.7665\"/>\r\n",
       "</g>\r\n",
       "<!-- 11 -->\r\n",
       "<g id=\"node12\" class=\"node\"><title>11</title>\r\n",
       "<path fill=\"#e58139\" fill-opacity=\"0.435294\" stroke=\"black\" d=\"M467.5,-351C467.5,-351 327.5,-351 327.5,-351 321.5,-351 315.5,-345 315.5,-339 315.5,-339 315.5,-265 315.5,-265 315.5,-259 321.5,-253 327.5,-253 327.5,-253 467.5,-253 467.5,-253 473.5,-253 479.5,-259 479.5,-265 479.5,-265 479.5,-339 479.5,-339 479.5,-345 473.5,-351 467.5,-351\"/>\r\n",
       "<text text-anchor=\"middle\" x=\"397.5\" y=\"-335.8\" font-family=\"Helvetica,sans-Serif\" font-size=\"14.00\">sepal width (cm) &lt;= 3.1</text>\r\n",
       "<text text-anchor=\"middle\" x=\"397.5\" y=\"-320.8\" font-family=\"Helvetica,sans-Serif\" font-size=\"14.00\">gini = 0.25</text>\r\n",
       "<text text-anchor=\"middle\" x=\"397.5\" y=\"-305.8\" font-family=\"Helvetica,sans-Serif\" font-size=\"14.00\">samples = 4</text>\r\n",
       "<text text-anchor=\"middle\" x=\"397.5\" y=\"-290.8\" font-family=\"Helvetica,sans-Serif\" font-size=\"14.00\">value = [[4, 0]</text>\r\n",
       "<text text-anchor=\"middle\" x=\"397.5\" y=\"-275.8\" font-family=\"Helvetica,sans-Serif\" font-size=\"14.00\">[3, 1]</text>\r\n",
       "<text text-anchor=\"middle\" x=\"397.5\" y=\"-260.8\" font-family=\"Helvetica,sans-Serif\" font-size=\"14.00\">[1, 3]]</text>\r\n",
       "</g>\r\n",
       "<!-- 10&#45;&gt;11 -->\r\n",
       "<g id=\"edge11\" class=\"edge\"><title>10&#45;&gt;11</title>\r\n",
       "<path fill=\"none\" stroke=\"black\" d=\"M398.772,-386.972C398.647,-378.691 398.515,-370.003 398.386,-361.483\"/>\r\n",
       "<polygon fill=\"black\" stroke=\"black\" points=\"401.882,-361.16 398.231,-351.214 394.883,-361.266 401.882,-361.16\"/>\r\n",
       "</g>\r\n",
       "<!-- 14 -->\r\n",
       "<g id=\"node15\" class=\"node\"><title>14</title>\r\n",
       "<path fill=\"#e58139\" stroke=\"black\" d=\"M595,-343.5C595,-343.5 510,-343.5 510,-343.5 504,-343.5 498,-337.5 498,-331.5 498,-331.5 498,-272.5 498,-272.5 498,-266.5 504,-260.5 510,-260.5 510,-260.5 595,-260.5 595,-260.5 601,-260.5 607,-266.5 607,-272.5 607,-272.5 607,-331.5 607,-331.5 607,-337.5 601,-343.5 595,-343.5\"/>\r\n",
       "<text text-anchor=\"middle\" x=\"552.5\" y=\"-328.3\" font-family=\"Helvetica,sans-Serif\" font-size=\"14.00\">gini = 0.0</text>\r\n",
       "<text text-anchor=\"middle\" x=\"552.5\" y=\"-313.3\" font-family=\"Helvetica,sans-Serif\" font-size=\"14.00\">samples = 37</text>\r\n",
       "<text text-anchor=\"middle\" x=\"552.5\" y=\"-298.3\" font-family=\"Helvetica,sans-Serif\" font-size=\"14.00\">value = [[37, 0]</text>\r\n",
       "<text text-anchor=\"middle\" x=\"552.5\" y=\"-283.3\" font-family=\"Helvetica,sans-Serif\" font-size=\"14.00\">[37, 0]</text>\r\n",
       "<text text-anchor=\"middle\" x=\"552.5\" y=\"-268.3\" font-family=\"Helvetica,sans-Serif\" font-size=\"14.00\">[0, 37]]</text>\r\n",
       "</g>\r\n",
       "<!-- 10&#45;&gt;14 -->\r\n",
       "<g id=\"edge14\" class=\"edge\"><title>10&#45;&gt;14</title>\r\n",
       "<path fill=\"none\" stroke=\"black\" d=\"M455.169,-386.972C468.883,-375.14 483.563,-362.475 497.256,-350.661\"/>\r\n",
       "<polygon fill=\"black\" stroke=\"black\" points=\"499.905,-352.999 505.19,-343.817 495.332,-347.699 499.905,-352.999\"/>\r\n",
       "</g>\r\n",
       "<!-- 12 -->\r\n",
       "<g id=\"node13\" class=\"node\"><title>12</title>\r\n",
       "<path fill=\"#e58139\" stroke=\"black\" d=\"M428,-209.5C428,-209.5 351,-209.5 351,-209.5 345,-209.5 339,-203.5 339,-197.5 339,-197.5 339,-138.5 339,-138.5 339,-132.5 345,-126.5 351,-126.5 351,-126.5 428,-126.5 428,-126.5 434,-126.5 440,-132.5 440,-138.5 440,-138.5 440,-197.5 440,-197.5 440,-203.5 434,-209.5 428,-209.5\"/>\r\n",
       "<text text-anchor=\"middle\" x=\"389.5\" y=\"-194.3\" font-family=\"Helvetica,sans-Serif\" font-size=\"14.00\">gini = 0.0</text>\r\n",
       "<text text-anchor=\"middle\" x=\"389.5\" y=\"-179.3\" font-family=\"Helvetica,sans-Serif\" font-size=\"14.00\">samples = 3</text>\r\n",
       "<text text-anchor=\"middle\" x=\"389.5\" y=\"-164.3\" font-family=\"Helvetica,sans-Serif\" font-size=\"14.00\">value = [[3, 0]</text>\r\n",
       "<text text-anchor=\"middle\" x=\"389.5\" y=\"-149.3\" font-family=\"Helvetica,sans-Serif\" font-size=\"14.00\">[3, 0]</text>\r\n",
       "<text text-anchor=\"middle\" x=\"389.5\" y=\"-134.3\" font-family=\"Helvetica,sans-Serif\" font-size=\"14.00\">[0, 3]]</text>\r\n",
       "</g>\r\n",
       "<!-- 11&#45;&gt;12 -->\r\n",
       "<g id=\"edge12\" class=\"edge\"><title>11&#45;&gt;12</title>\r\n",
       "<path fill=\"none\" stroke=\"black\" d=\"M394.589,-252.972C393.939,-242.246 393.248,-230.835 392.591,-219.994\"/>\r\n",
       "<polygon fill=\"black\" stroke=\"black\" points=\"396.072,-219.586 391.974,-209.817 389.085,-220.01 396.072,-219.586\"/>\r\n",
       "</g>\r\n",
       "<!-- 13 -->\r\n",
       "<g id=\"node14\" class=\"node\"><title>13</title>\r\n",
       "<path fill=\"#e58139\" stroke=\"black\" d=\"M547,-209.5C547,-209.5 470,-209.5 470,-209.5 464,-209.5 458,-203.5 458,-197.5 458,-197.5 458,-138.5 458,-138.5 458,-132.5 464,-126.5 470,-126.5 470,-126.5 547,-126.5 547,-126.5 553,-126.5 559,-132.5 559,-138.5 559,-138.5 559,-197.5 559,-197.5 559,-203.5 553,-209.5 547,-209.5\"/>\r\n",
       "<text text-anchor=\"middle\" x=\"508.5\" y=\"-194.3\" font-family=\"Helvetica,sans-Serif\" font-size=\"14.00\">gini = 0.0</text>\r\n",
       "<text text-anchor=\"middle\" x=\"508.5\" y=\"-179.3\" font-family=\"Helvetica,sans-Serif\" font-size=\"14.00\">samples = 1</text>\r\n",
       "<text text-anchor=\"middle\" x=\"508.5\" y=\"-164.3\" font-family=\"Helvetica,sans-Serif\" font-size=\"14.00\">value = [[1, 0]</text>\r\n",
       "<text text-anchor=\"middle\" x=\"508.5\" y=\"-149.3\" font-family=\"Helvetica,sans-Serif\" font-size=\"14.00\">[0, 1]</text>\r\n",
       "<text text-anchor=\"middle\" x=\"508.5\" y=\"-134.3\" font-family=\"Helvetica,sans-Serif\" font-size=\"14.00\">[1, 0]]</text>\r\n",
       "</g>\r\n",
       "<!-- 11&#45;&gt;13 -->\r\n",
       "<g id=\"edge13\" class=\"edge\"><title>11&#45;&gt;13</title>\r\n",
       "<path fill=\"none\" stroke=\"black\" d=\"M437.888,-252.972C447.558,-241.472 457.89,-229.185 467.584,-217.657\"/>\r\n",
       "<polygon fill=\"black\" stroke=\"black\" points=\"470.42,-219.723 474.177,-209.817 465.062,-215.218 470.42,-219.723\"/>\r\n",
       "</g>\r\n",
       "</g>\r\n",
       "</svg>\r\n"
      ],
      "text/plain": [
       "<graphviz.files.Source at 0x15c8ce10470>"
      ]
     },
     "execution_count": 20,
     "metadata": {},
     "output_type": "execute_result"
    }
   ],
   "source": [
    "dot_data = tree.export_graphviz(dt, out_file=None, filled=True, rounded=True, feature_names=iris.feature_names, class_names=iris.target_names)\n",
    "#export_graphviz function converts decision tree classifier into dot file and pydotplus convert this dot file to png or displayable form on Jupyter.\n",
    "graph = graphviz.Source(dot_data)  \n",
    "graph"
   ]
  },
  {
   "cell_type": "code",
   "execution_count": null,
   "metadata": {},
   "outputs": [],
   "source": []
  }
 ],
 "metadata": {
  "kernelspec": {
   "display_name": "Python 3",
   "language": "python",
   "name": "python3"
  },
  "language_info": {
   "codemirror_mode": {
    "name": "ipython",
    "version": 3
   },
   "file_extension": ".py",
   "mimetype": "text/x-python",
   "name": "python",
   "nbconvert_exporter": "python",
   "pygments_lexer": "ipython3",
   "version": "3.7.1"
  }
 },
 "nbformat": 4,
 "nbformat_minor": 2
}
