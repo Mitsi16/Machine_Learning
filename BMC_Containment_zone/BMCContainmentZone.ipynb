{
 "cells": [
  {
   "cell_type": "markdown",
   "metadata": {},
   "source": [
    "## BMC Containment Zone\n",
    "\n",
    "**The file contains latitude-longitude information associated with different markers.**"
   ]
  },
  {
   "cell_type": "markdown",
   "metadata": {},
   "source": [
    "**Finding out all of the latitude-longitude pairs, as well as the associated marker id with these pairs.**"
   ]
  },
  {
   "cell_type": "code",
   "execution_count": 1,
   "metadata": {
    "scrolled": true
   },
   "outputs": [],
   "source": [
    "#importing regular expression\n",
    "import re\n",
    "\n",
    "#creating a regular expression pattern to find the marker-id\n",
    "pattern = re.compile(r\"var marker_(?P<marker_id>[0-9a-zA-Z]+)\")\n",
    "#creating a regular expression pattern to find the latitude and longitude\n",
    "patt = re.compile(r\"\\[(?P<latitude>.+),(?P<longitude>.+)\\]\")\n",
    "\n",
    "#creating an empty list that will contain the 3 required keys with its values\n",
    "marker_data = []\n",
    "#reading the file\n",
    "with open(\"BMC-ContainmentZones.js\", \"r\") as f:\n",
    "    marker_id = None\n",
    "    for line in f:\n",
    "        l = line.strip()\n",
    "        if marker_id:\n",
    "            #matching pattern for latitude and longitude removing the trailing and leading spaces from it \n",
    "            #that has been compiled in 'patt' and storing it in variable b\n",
    "            b = patt.match(l)\n",
    "            if b:\n",
    "                #if b gets matched the values of latitude and longitude will be stored in variable c\n",
    "                # groupdict() returns a dictionary containing all the named subgroups of the match\n",
    "                c = b.groupdict()\n",
    "                #appending the marker_id, latitude and longitude in marker_data\n",
    "                #get() returns the value of the specified key\n",
    "                marker_data.append({\"marker_id\": marker_id, \"latitude\": c.get(\"latitude\").strip(), \"longitude\": c.get(\"longitude\").strip()})\n",
    "            marker_id = None\n",
    "        #matching pattern for marker_id that has been compiled in 'pattern' and storing it in variable a\n",
    "        a = pattern.match(l)\n",
    "        if a:\n",
    "            #if a gets matched the value of marker_id will be stored in variable marker_id\n",
    "            marker_id = a.groupdict().get(\"marker_id\")\n",
    "\n",
    "#print(marker_data)"
   ]
  },
  {
   "cell_type": "markdown",
   "metadata": {},
   "source": [
    "**Creating a dataframe, having three columns - latitude, longitude and marker id.**"
   ]
  },
  {
   "cell_type": "code",
   "execution_count": 4,
   "metadata": {},
   "outputs": [],
   "source": [
    "import pandas as pd"
   ]
  },
  {
   "cell_type": "code",
   "execution_count": 5,
   "metadata": {},
   "outputs": [
    {
     "data": {
      "text/html": [
       "<div>\n",
       "<style scoped>\n",
       "    .dataframe tbody tr th:only-of-type {\n",
       "        vertical-align: middle;\n",
       "    }\n",
       "\n",
       "    .dataframe tbody tr th {\n",
       "        vertical-align: top;\n",
       "    }\n",
       "\n",
       "    .dataframe thead th {\n",
       "        text-align: right;\n",
       "    }\n",
       "</style>\n",
       "<table border=\"1\" class=\"dataframe\">\n",
       "  <thead>\n",
       "    <tr style=\"text-align: right;\">\n",
       "      <th></th>\n",
       "      <th>latitude</th>\n",
       "      <th>longitude</th>\n",
       "      <th>marker_id</th>\n",
       "    </tr>\n",
       "  </thead>\n",
       "  <tbody>\n",
       "    <tr>\n",
       "      <th>0</th>\n",
       "      <td>19.041691972000024</td>\n",
       "      <td>72.85052482000003</td>\n",
       "      <td>9795626cfd584471ab4406d756a00baf</td>\n",
       "    </tr>\n",
       "    <tr>\n",
       "      <th>1</th>\n",
       "      <td>19.047690380000063</td>\n",
       "      <td>72.85787174600006</td>\n",
       "      <td>82a31b114c0243859e73c4f5f1332554</td>\n",
       "    </tr>\n",
       "    <tr>\n",
       "      <th>2</th>\n",
       "      <td>19.039267403000053</td>\n",
       "      <td>72.85491353500004</td>\n",
       "      <td>0e93001008714f1da3c40e3317183810</td>\n",
       "    </tr>\n",
       "    <tr>\n",
       "      <th>3</th>\n",
       "      <td>19.04372482200006</td>\n",
       "      <td>72.85004247900008</td>\n",
       "      <td>a41b90c2ea4a405b8a35811cd094ea68</td>\n",
       "    </tr>\n",
       "    <tr>\n",
       "      <th>4</th>\n",
       "      <td>19.017987179000045</td>\n",
       "      <td>72.81980024300003</td>\n",
       "      <td>3e13bed860e9471d9a1323cffd3b6129</td>\n",
       "    </tr>\n",
       "  </tbody>\n",
       "</table>\n",
       "</div>"
      ],
      "text/plain": [
       "             latitude          longitude                         marker_id\n",
       "0  19.041691972000024  72.85052482000003  9795626cfd584471ab4406d756a00baf\n",
       "1  19.047690380000063  72.85787174600006  82a31b114c0243859e73c4f5f1332554\n",
       "2  19.039267403000053  72.85491353500004  0e93001008714f1da3c40e3317183810\n",
       "3   19.04372482200006  72.85004247900008  a41b90c2ea4a405b8a35811cd094ea68\n",
       "4  19.017987179000045  72.81980024300003  3e13bed860e9471d9a1323cffd3b6129"
      ]
     },
     "execution_count": 5,
     "metadata": {},
     "output_type": "execute_result"
    }
   ],
   "source": [
    "containment_zone = pd.DataFrame(marker_data)\n",
    "containment_zone.head()"
   ]
  },
  {
   "cell_type": "code",
   "execution_count": 6,
   "metadata": {},
   "outputs": [
    {
     "data": {
      "text/plain": [
       "(640, 3)"
      ]
     },
     "execution_count": 6,
     "metadata": {},
     "output_type": "execute_result"
    }
   ],
   "source": [
    "containment_zone.shape"
   ]
  },
  {
   "cell_type": "markdown",
   "metadata": {},
   "source": [
    " **The dataframe contains 640 rows, 3 columns**"
   ]
  }
 ],
 "metadata": {
  "kernelspec": {
   "display_name": "Python 3",
   "language": "python",
   "name": "python3"
  },
  "language_info": {
   "codemirror_mode": {
    "name": "ipython",
    "version": 3
   },
   "file_extension": ".py",
   "mimetype": "text/x-python",
   "name": "python",
   "nbconvert_exporter": "python",
   "pygments_lexer": "ipython3",
   "version": "3.7.1"
  }
 },
 "nbformat": 4,
 "nbformat_minor": 2
}
