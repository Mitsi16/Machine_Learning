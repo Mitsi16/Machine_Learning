{
 "cells": [
  {
   "cell_type": "markdown",
   "metadata": {},
   "source": [
    "## Sentiment Analysis"
   ]
  },
  {
   "cell_type": "markdown",
   "metadata": {},
   "source": [
    "**Sentiment Analysis is a sub field of NLP that tries to identify the sentiment conveyed through a text. Sentiment analysis helps company in their decision making process.**\n",
    "\n",
    "**Here we are performing sentiment analysis on movies reviews.**\n",
    "\n",
    "**The 2,000 record IMDb movie review database is accessible through NLTK directly with**\n",
    "\n",
    "*from nltk.corpus import movie_reviews*\n",
    "\n",
    "**However, since we already have it in a tab-delimited file we'll use that instead.**"
   ]
  },
  {
   "cell_type": "code",
   "execution_count": 1,
   "metadata": {},
   "outputs": [],
   "source": [
    "#importing all the necessary libraries\n",
    "import nltk\n",
    "import pandas as pd\n",
    "import string\n",
    "from wordcloud import WordCloud, STOPWORDS\n",
    "from nltk.corpus import stopwords\n",
    "import matplotlib.pyplot as plt\n",
    "from sklearn.metrics import classification_report, confusion_matrix, accuracy_score"
   ]
  },
  {
   "cell_type": "code",
   "execution_count": 2,
   "metadata": {},
   "outputs": [
    {
     "data": {
      "text/html": [
       "<div>\n",
       "<style scoped>\n",
       "    .dataframe tbody tr th:only-of-type {\n",
       "        vertical-align: middle;\n",
       "    }\n",
       "\n",
       "    .dataframe tbody tr th {\n",
       "        vertical-align: top;\n",
       "    }\n",
       "\n",
       "    .dataframe thead th {\n",
       "        text-align: right;\n",
       "    }\n",
       "</style>\n",
       "<table border=\"1\" class=\"dataframe\">\n",
       "  <thead>\n",
       "    <tr style=\"text-align: right;\">\n",
       "      <th></th>\n",
       "      <th>label</th>\n",
       "      <th>review</th>\n",
       "    </tr>\n",
       "  </thead>\n",
       "  <tbody>\n",
       "    <tr>\n",
       "      <th>0</th>\n",
       "      <td>neg</td>\n",
       "      <td>how do films like mouse hunt get into theatres...</td>\n",
       "    </tr>\n",
       "    <tr>\n",
       "      <th>1</th>\n",
       "      <td>neg</td>\n",
       "      <td>some talented actresses are blessed with a dem...</td>\n",
       "    </tr>\n",
       "    <tr>\n",
       "      <th>2</th>\n",
       "      <td>pos</td>\n",
       "      <td>this has been an extraordinary year for austra...</td>\n",
       "    </tr>\n",
       "    <tr>\n",
       "      <th>3</th>\n",
       "      <td>pos</td>\n",
       "      <td>according to hollywood movies made in last few...</td>\n",
       "    </tr>\n",
       "    <tr>\n",
       "      <th>4</th>\n",
       "      <td>neg</td>\n",
       "      <td>my first press screening of 1998 and already i...</td>\n",
       "    </tr>\n",
       "  </tbody>\n",
       "</table>\n",
       "</div>"
      ],
      "text/plain": [
       "  label                                             review\n",
       "0   neg  how do films like mouse hunt get into theatres...\n",
       "1   neg  some talented actresses are blessed with a dem...\n",
       "2   pos  this has been an extraordinary year for austra...\n",
       "3   pos  according to hollywood movies made in last few...\n",
       "4   neg  my first press screening of 1998 and already i..."
      ]
     },
     "execution_count": 2,
     "metadata": {},
     "output_type": "execute_result"
    }
   ],
   "source": [
    "#loading the dataset\n",
    "df = pd.read_csv(r'TextFiles/moviereviews.tsv', sep = '\\t')\n",
    "df.head()"
   ]
  },
  {
   "cell_type": "code",
   "execution_count": 3,
   "metadata": {},
   "outputs": [
    {
     "name": "stdout",
     "output_type": "stream",
     "text": [
      "<class 'pandas.core.frame.DataFrame'>\n",
      "RangeIndex: 2000 entries, 0 to 1999\n",
      "Data columns (total 2 columns):\n",
      "label     2000 non-null object\n",
      "review    1965 non-null object\n",
      "dtypes: object(2)\n",
      "memory usage: 31.3+ KB\n"
     ]
    }
   ],
   "source": [
    "df.info()"
   ]
  },
  {
   "cell_type": "code",
   "execution_count": 4,
   "metadata": {},
   "outputs": [
    {
     "data": {
      "text/plain": [
       "label      0\n",
       "review    35\n",
       "dtype: int64"
      ]
     },
     "execution_count": 4,
     "metadata": {},
     "output_type": "execute_result"
    }
   ],
   "source": [
    "#checking for null values\n",
    "df.isnull().sum()"
   ]
  },
  {
   "cell_type": "code",
   "execution_count": 5,
   "metadata": {},
   "outputs": [],
   "source": [
    "#dropping the NA values\n",
    "df.dropna(inplace=True)"
   ]
  },
  {
   "cell_type": "code",
   "execution_count": 6,
   "metadata": {},
   "outputs": [
    {
     "data": {
      "text/plain": [
       "label     0\n",
       "review    0\n",
       "dtype: int64"
      ]
     },
     "execution_count": 6,
     "metadata": {},
     "output_type": "execute_result"
    }
   ],
   "source": [
    "df.isnull().sum()"
   ]
  },
  {
   "cell_type": "code",
   "execution_count": 7,
   "metadata": {},
   "outputs": [],
   "source": [
    "#checking reviews having blank spaces(empty string) and removing them as well\n",
    "\n",
    "#starting with an empty list\n",
    "blanks= []\n",
    "\n",
    "for i, lb, rev in df.itertuples():#iterate over the dataframe\n",
    "    if type(rev) == str: #checking for string datatype\n",
    "        if rev.isspace(): #testing 'review' for whitespace\n",
    "            blanks.append(i) #adding the matching index no. to the list\n",
    "\n",
    "#dropping all the rows that has been appended into 'blanks'\n",
    "df.drop(blanks, inplace=True)"
   ]
  },
  {
   "cell_type": "code",
   "execution_count": 8,
   "metadata": {},
   "outputs": [
    {
     "data": {
      "text/plain": [
       "1938"
      ]
     },
     "execution_count": 8,
     "metadata": {},
     "output_type": "execute_result"
    }
   ],
   "source": [
    "len(df)"
   ]
  },
  {
   "cell_type": "markdown",
   "metadata": {},
   "source": [
    "Now we are left with 1938 rows in the dataset."
   ]
  },
  {
   "cell_type": "code",
   "execution_count": 9,
   "metadata": {},
   "outputs": [
    {
     "data": {
      "text/plain": [
       "neg    969\n",
       "pos    969\n",
       "Name: label, dtype: int64"
      ]
     },
     "execution_count": 9,
     "metadata": {},
     "output_type": "execute_result"
    }
   ],
   "source": [
    "df['label'].value_counts()"
   ]
  },
  {
   "cell_type": "code",
   "execution_count": 11,
   "metadata": {},
   "outputs": [
    {
     "data": {
      "text/html": [
       "<div>\n",
       "<style scoped>\n",
       "    .dataframe tbody tr th:only-of-type {\n",
       "        vertical-align: middle;\n",
       "    }\n",
       "\n",
       "    .dataframe tbody tr th {\n",
       "        vertical-align: top;\n",
       "    }\n",
       "\n",
       "    .dataframe thead tr th {\n",
       "        text-align: left;\n",
       "    }\n",
       "\n",
       "    .dataframe thead tr:last-of-type th {\n",
       "        text-align: right;\n",
       "    }\n",
       "</style>\n",
       "<table border=\"1\" class=\"dataframe\">\n",
       "  <thead>\n",
       "    <tr>\n",
       "      <th></th>\n",
       "      <th colspan=\"4\" halign=\"left\">review</th>\n",
       "    </tr>\n",
       "    <tr>\n",
       "      <th></th>\n",
       "      <th>count</th>\n",
       "      <th>unique</th>\n",
       "      <th>top</th>\n",
       "      <th>freq</th>\n",
       "    </tr>\n",
       "    <tr>\n",
       "      <th>label</th>\n",
       "      <th></th>\n",
       "      <th></th>\n",
       "      <th></th>\n",
       "      <th></th>\n",
       "    </tr>\n",
       "  </thead>\n",
       "  <tbody>\n",
       "    <tr>\n",
       "      <th>neg</th>\n",
       "      <td>969</td>\n",
       "      <td>969</td>\n",
       "      <td>you know the plot : a dimwit with a shady past...</td>\n",
       "      <td>1</td>\n",
       "    </tr>\n",
       "    <tr>\n",
       "      <th>pos</th>\n",
       "      <td>969</td>\n",
       "      <td>969</td>\n",
       "      <td>on april 12th , 1912 , the most astonishing sh...</td>\n",
       "      <td>1</td>\n",
       "    </tr>\n",
       "  </tbody>\n",
       "</table>\n",
       "</div>"
      ],
      "text/plain": [
       "      review                                                               \n",
       "       count unique                                                top freq\n",
       "label                                                                      \n",
       "neg      969    969  you know the plot : a dimwit with a shady past...    1\n",
       "pos      969    969  on april 12th , 1912 , the most astonishing sh...    1"
      ]
     },
     "execution_count": 11,
     "metadata": {},
     "output_type": "execute_result"
    }
   ],
   "source": [
    "df.groupby('label').describe()"
   ]
  },
  {
   "cell_type": "code",
   "execution_count": 12,
   "metadata": {},
   "outputs": [],
   "source": [
    "df['length'] = df['review'].apply(len)"
   ]
  },
  {
   "cell_type": "code",
   "execution_count": 13,
   "metadata": {},
   "outputs": [
    {
     "data": {
      "text/plain": [
       "count     1938.000000\n",
       "mean      3889.938080\n",
       "std       1695.386131\n",
       "min         92.000000\n",
       "25%       2754.250000\n",
       "50%       3631.000000\n",
       "75%       4700.000000\n",
       "max      15016.000000\n",
       "Name: length, dtype: float64"
      ]
     },
     "execution_count": 13,
     "metadata": {},
     "output_type": "execute_result"
    }
   ],
   "source": [
    "df.length.describe()"
   ]
  },
  {
   "cell_type": "code",
   "execution_count": 14,
   "metadata": {},
   "outputs": [
    {
     "data": {
      "text/plain": [
       "'note : some may consider portions of the following text to be spoilers . \\r\\nbe forewarned . \\r\\nlike its own opening shot , from out of the darkness boogie nights triumphantly explodes upon the film scene with stunning authority and clarity , persuasively heralding its helmer paul thomas anderson as a bonafide major talent . \\r\\na sprawling epic set in the heart of the disco era and focused upon the ascension and decline of a troupe in the adult film industry , boogie nights is an astonishingly ambitious feature film which is completely effective both as an utterly entertaining joyride and as a strikingly impressive piece of filmmaking . \\r\\nthe film follows a soft-spoken young man , eddie adams ( mark wahlberg ) from torrance , through his induction into the erotic picture business to stardom , and later , to a harrowingly precipitous drop . \\r\\nas boogie nights opens , he\\'s toiling as a dishwasher in a trendy san fernando valley nightclub , and living at home under the thumb of a tyrannical mother who denigrates him at every opportunity . \\r\\nrecruited by fatherly jack horner ( a rejuvenated burt reynolds ) , a successful porn filmmaker , eddie abandons his old life in favour of a new one as dirk diggler , pornstar . \\r\\nwholeheartedly embraced by jack\\'s troupe , including the maternal amber waves ( julianne moore ) , reed rothchild ( john c . reilly ) , buck swope ( don cheadle ) , rollergirl ( heather graham ) , dirk and his \" one special thing \" are quickly propelled to the top of his field , fulfilling his mantra of being a \" big bright shining star \" . \\r\\nhis lack of discipline , however , incites a chain of circumstances which sees dirk and his friends unravel as a new decade is ushered in . \\r\\nthe element of boogie nights which literally commands attention is the bravura direction by mr . anderson , whose fascination and prowess with the camera is obvious . \\r\\nfrom the terrific tracking shot throughout a nightclub which opens the film and introduces the players through to the showy sequence in the camera follows a female partygoer diving into a pool , mr . anderson\\'s accomplished command of the camera is without question . \\r\\nwhile novice directors often demonstrate an unfortunate lack of restraint in terms of flamboyant camerawork which ultimately proves to be aggravating , impertinent and self-congratulatory ( case in point : marc rocco\\'s unforgettable perpetual-motion helming of murder in the first ) , in boogie nights every zoom or pan by mr . anderson , be it slow and deliberate or energetically sharp , is purposeful and potent . \\r\\nit\\'s a rarity and a delight to discover such a confidently assured work so early in a filmmaker\\'s career -- boogie nights is only his second feature film , following up his debut feature from earlier this year , hard eight -- and although it\\'s somewhat derivative ( his storytelling style is reminiscent of robert altman , while in terms of visuals he\\'s clearly influenced by martin scorsese ) , at least he\\'s borrowing from some of the best , and it\\'s entirely effective within the context of this film . \\r\\nwhile boogie nights is astonishingly polished from a technical perspective , in terms of sheer entertainment value it\\'s also rollicking good fun , with a wickedly deadpan sense of humour . \\r\\nthe film perfectly captures the essence of the disco period in terms of music , clothes , hairstyles , dance , idioms , and culture , aided immeasurably by impeccable production design by bob ziembicki and costume design by mark bridges , and boogie nights convincingly catapults the audience back to this recent , pre-aids-scare period in american history where uninhibited , free-wheeling lifestyles abounded . \\r\\nwhile much of the film\\'s humour pertains to the characters\\' obliviousness of now-outdated aspects of their lives then prevalent in society -- a prime example is part-time salesman buck swope\\'s demo of a stereo system with an eight-track tape , and inviting a prospective customer to get \\'freaky deaky\\' with the music -- it\\'s elicited with an undercurrent not of ridicule , but of wistful reminiscence , and some the throwback elements in the film are strangely wondrous . \\r\\na giant ensemble disco dance production number in a nightclub is funny , to be sure , but oddly magical , and the sequence which lovingly explores eddie/dirk\\'s bedroom , completely adorned with posters and elements of iconic 1970s figures ( farrah fawcett , cheryl tiegs , bruce lee ) is breathtaking . \\r\\nably supported by a well-selected collection of period music ( all of which purportedly came straight from mr . anderson\\'s personal collection ) , there\\'s a clear affection for the era in boogie nights . \\r\\nit\\'s the period aspect and the playfully comic nostaligism of boogie nights which has been played up in its marketing campaign in deference of the pornography element of the storyline ; the film\\'s promotional trailer markedly avoids any explicit reference to the adult film industry which unites its characters . \\r\\nafter the debacle with 1996\\'s milos forman film , the people vs . \\r\\nlarry flynt , another finely-crafted work which was knocked off the market prematurely due to controversy regarding its pornography-related storyline , the new line marketing team faced a unique challenge with boogie nights in terms of attempting to deemphasize the relatively risque erotic picture element of the story in order to increase salability to the general public . \\r\\nhowever , while boogie nights delves into the world of the adult film industry of two decades ago , it\\'s hardly a lurid or seamy film -- given the subject matter , there\\'s very little nudity , and virtually none of it can be construed as gratuitous -- and boogie nights smartly depicts erotic filmmaking not as a hotbed of carnality , but simply as a business . \\r\\nthe glimpses on the sets of jack horner\\'s shoots reveal that while the films he makes are intended to titillate , there\\'s a candid matter-of-factness in terms of sex ; his cast and crew are professionals who are merely doing a job , and it\\'s refreshing that the obvious cliches of depravity and sinful lechery often linked to dismissive portraits of adult filmmaking , such as coercion or debauchery , are avoided . \\r\\nif anything , boogie nights is more interested in the process of adult filmmaking than the adult films themselves . \\r\\njack horner\\'s dream is an honourable one -- he genuinely aspires to make a great film -- and to some degree boogie nights is reminiscent of ed wood ( albeit lacking a certain wistful innocence ) . \\r\\nin both films , the world of quickie low-budget filmmaking is explored , and both jack horner and the version of ed wood by tim burton , scott alexander , and larry karaszewski share similar mindsets -- jack\\'s retort of \" there are shadows in light , baby \" to his cinematographer\\'s complaint about poor set lighting echoes back to ed wood\\'s \" it\\'s not about the little details , it\\'s about the big picture ! \" \\r\\nrant when it is pointed out that his graveyard set for plan 9 from outer space appears patently false . \\r\\nin boogie nights and ed wood , the aspirations of the respective filmmakers\\' prove to be bemusing , not in their intentions -- there\\'s nothing inherently silly in the goal of making an \\'artistic\\' erotic picture -- but in the degree that they miss the mark . \\r\\nmuch like the humour lacing ed wood , the laughs involving jack horner are double-edged ; after viewing a hilarious excerpt from one of his latest films which hybridizes the james bond and porn genres , when jack breathes \" this is the best work i\\'ve ever done \" , it\\'s genuinely funny , but given his utter sincerity , also possesses a tinge of sadness . \\r\\nmr . anderson is at this point clearly a greater talent as a director than a screenwriter . \\r\\nwhile boogie nights shows great inventiveness in staging , there really isn\\'t any clever dialogue in the film , though a valid point certainly can be made that none of the film\\'s characters particularly lend themselves to thoughtful verbal exchanges ; when one considers that the film\\'s * protagonist * literally doesn\\'t say a single insightful thing throughout the entire 152 minute running time , it\\'s no wonder why the playfully inane \" how much can you bench ? \" \\r\\nbanter between dirk and reed constitutes one of the film\\'s finest exchanges . \\r\\nand while mr . anderson creates a rich collection of fascinating characters , it\\'s problematic that some of the the threads given to the film\\'s characters are simply stale material -- julianne moore\\'s child custody battle is fairly cliched stuff , better suited for a less risque and uninspired tv-movie version of her character\\'s story , and far less interesting than the thread dealing with her woefully hackneyed filmmaking ambitions . \\r\\nstill , even if he doesn\\'t always know what to do with his characters , mr . anderson most definitely captures their essences , and his resolutely nonjudgemental affection for them is infectious -- misguided , even aimless , hopelessly naive , self-destructive , insufferable : i loved them just the same . \\r\\nin any case , it\\'s hard to pick nits with a screenplay which contains one of the most audacious and inspired ( and ultimately best-executed ) scenes of the year : a scene where dirk diggler and reed rothchild are dragged along by their loose-cannon compadre to the home of drug baron rahad jackson ( a mesmerizing alfred molina in an unforgettable performance , even if it\\'s a small one ) in a suicidal drug deal scam , only to find that the millionaire is a crazed eccentric ( the part where he stops the deal to listen to the crescendo of night ranger\\'s \" sister christian \" on his stereo system is sheer brilliance ) flanked by an armed bodyguard . \\r\\nif this scene already wasn\\'t tense enough with these elements , mr . anderson introduces a chinese boy that wanders through the scene , who for no discernable reason is tossing firecrackers around the room , pushing the scene to a new , surreal level of delightful giddiness . \\r\\nthere are some other interesting touches in boogie nights . \\r\\nmr . anderson recycles the use of long methodical chimes on the soundtrack from hard eight ; here , it accompanies the violent intercut sequences which depict the prostration of various characters to frightening effect . \\r\\nsimilarly , a painful scene where crew member scotty j ( philip seymour hoffman ) breaks down in tears in the driver\\'s seat , sobbing \" i\\'m so stupid \" after being rebuffed by dirk after an awkward but heartfelt advance is strikingly played out exactly as a later scene with dirk in the driver\\'s seat after a particularly tumultuous and traumatic evening . \\r\\nboogie nights is exceedingly well cast , and each of the actors rise to the occasion ; the ensemble cast is uniformly good . \\r\\nwhile most of the acting accolades will no doubt go to mr . wahlberg ( fulfilling upon the sparks of promise he demonstrated in some of his earlier films ) and mr . reynolds ( terrific as the father figure and stable anchor of the film , ringing true in every respect ) , a handful of other performances which might otherwise be overlooked deem mention . \\r\\nmr . reilly demonstrates here , as he did for brief glimpses in ulu grosbard\\'s georgia , a genuine aptitude for comedy -- many of his scenes in boogie nights are among the very funniest in the film . \\r\\ni\\'m not sure how much of his performance as reed was scripted and how much was done on the spot , but he plays the quintessential second banana character to a tee . \\r\\nmr . reilly is the best part of the big disco dance production number , and it\\'s wickedly funny to watch his reed join in with dirk after the fact in threatening the new stud on the block during a macho altercation . \\r\\nworth the price of admission alone is the glimpse of him getting down in the recording studio while the dirk character is laying down a numbingly bad ( and dead-on period ; it sure sounds like bad early 1980s to me ) demo track \" you got the touch \" in a vain attempt at a musical career . \\r\\nmr . reilly plays his vacant character with utter conviction which is convincing and effective . \\r\\nms . graham , with her long dirty blonde hair , innocent demeanour , and huge hazel eyes , looks like a disney animated heroine come to life -- or in this case , a disney animated heroine who came to life , made a wrong turn , and ended up on the new line lot in a film focused on the late 70s / early 80s adult film industry . \\r\\nconsequently , it\\'s a bit incongruous to see this cheery sweet-faced starlet whizzing about the set on her roller skates , but in a scene where she\\'s lounging in a limousine prowling the streets , garish red lipstick messily smeared on , giving the camera a hilariously pouty come-hither look , all one can do is gulp . \\r\\nher role in the film sadly needs more fleshing out ( err -- in a figurative sense ) -- she\\'s essentially a glorified extra -- but she does score impressively in her key scene which is unnerving in its sheer primal ferocity . \\r\\n ( if only mr . anderson had filmed the scene so that we could actually see the expression of rage and anguish on her face , though ! ) \\r\\nand a cautionary tale for the strict and prudish : as a teen , ms . graham\\'s parents forbade her to take a part in the twisted cult classic heathers ; since then , her most notable roles have been as a junkie ( gus van sant\\'s drugstore cowboy ) and now a porn starlet . \\r\\ndraw your own conclusions . \\r\\nperhaps the most quietly touching performance in boogie nights is that of mr . cheadle , who lends dignity to his role as a character in search of his identity , and whose quest is comically manifested by a series of changes in his sense of fashion . \\r\\nhis relationship with his cheerfully supportive new wife jessie st . vincent ( an interesting melora walters ) is wholly compelling has genuine sweetness , and although his general longing for acceptance from others is perceptible , it\\'s no more so than in the bank scene where his loan application to open a stereo store is rejected due to his background in the porn industry . \\r\\nwhile the scenario is familiar , the wounded look in cheadle\\'s eyes makes the scene unforgettable . \\r\\nluis guzman\\'s most famous work is possibly in brian de palma\\'s carlito\\'s way , and here he plays a variation on the same character : maurice t . rodriguez is a hapless but good-natured nightclub owner who\\'s a hanger-on to jack\\'s group , ingratiating himself into the clique and constantly hounding jack , with little disguise made of his desperation , for a part in one of his erotic pictures . \\r\\njack\\'s eventual acquiescence to maurice\\'s request leads to one of boogie nights\\' biggest comic payoffs . \\r\\nboogie nights is a stunning achievement due to the virtuoso direction by mr . anderson , who immediately asserts his presence in the film industry as a presence of note with this work . \\r\\nstriking a fine balance between humour and drama , and exceptionally well-crafted , there\\'s no doubt that boogie nights is among the very best films of the year . \\r\\n'"
      ]
     },
     "execution_count": 14,
     "metadata": {},
     "output_type": "execute_result"
    }
   ],
   "source": [
    "df[df['length'] == 15016]['review'].iloc[0]"
   ]
  },
  {
   "cell_type": "markdown",
   "metadata": {},
   "source": [
    "From the above output we can see that there are equal numbers of negative and positive reviews."
   ]
  },
  {
   "cell_type": "markdown",
   "metadata": {},
   "source": [
    "We will now clean the data by:\n",
    "* Removing punctuations\n",
    "* Removing all stopwords\n",
    "* and Return a corpus of cleaned text"
   ]
  },
  {
   "cell_type": "code",
   "execution_count": 15,
   "metadata": {},
   "outputs": [],
   "source": [
    "def text_clean(rev):\n",
    "    \n",
    "    # Check characters to see if they are in punctuation\n",
    "    nopunc = [char for char in rev if char not in string.punctuation]\n",
    "\n",
    "    # Join the characters again to form the string.\n",
    "    nopunc = ''.join(nopunc)\n",
    "    \n",
    "    # Now just remove any stopwords\n",
    "    nopunc =  [w for w in nopunc.split() if w.lower() not in (stopwords.words('english'))]\n",
    "    nopunc = ' '.join(nopunc)\n",
    "    return nopunc"
   ]
  },
  {
   "cell_type": "code",
   "execution_count": 16,
   "metadata": {},
   "outputs": [
    {
     "data": {
      "text/plain": [
       "0    films like mouse hunt get theatres isnt law so...\n",
       "1    talented actresses blessed demonstrated wide a...\n",
       "2    extraordinary year australian films shine scoo...\n",
       "3    according hollywood movies made last decades l...\n",
       "4    first press screening 1998 already ive gotten ...\n",
       "Name: review, dtype: object"
      ]
     },
     "execution_count": 16,
     "metadata": {},
     "output_type": "execute_result"
    }
   ],
   "source": [
    "df[\"review\"].head().apply(text_clean)"
   ]
  },
  {
   "cell_type": "code",
   "execution_count": 17,
   "metadata": {},
   "outputs": [],
   "source": [
    "df['review'] = df['review'].apply(text_clean)"
   ]
  },
  {
   "cell_type": "code",
   "execution_count": 18,
   "metadata": {},
   "outputs": [
    {
     "data": {
      "text/html": [
       "<div>\n",
       "<style scoped>\n",
       "    .dataframe tbody tr th:only-of-type {\n",
       "        vertical-align: middle;\n",
       "    }\n",
       "\n",
       "    .dataframe tbody tr th {\n",
       "        vertical-align: top;\n",
       "    }\n",
       "\n",
       "    .dataframe thead th {\n",
       "        text-align: right;\n",
       "    }\n",
       "</style>\n",
       "<table border=\"1\" class=\"dataframe\">\n",
       "  <thead>\n",
       "    <tr style=\"text-align: right;\">\n",
       "      <th></th>\n",
       "      <th>label</th>\n",
       "      <th>review</th>\n",
       "      <th>length</th>\n",
       "    </tr>\n",
       "  </thead>\n",
       "  <tbody>\n",
       "    <tr>\n",
       "      <th>0</th>\n",
       "      <td>neg</td>\n",
       "      <td>films like mouse hunt get theatres isnt law so...</td>\n",
       "      <td>2250</td>\n",
       "    </tr>\n",
       "    <tr>\n",
       "      <th>1</th>\n",
       "      <td>neg</td>\n",
       "      <td>talented actresses blessed demonstrated wide a...</td>\n",
       "      <td>3503</td>\n",
       "    </tr>\n",
       "    <tr>\n",
       "      <th>2</th>\n",
       "      <td>pos</td>\n",
       "      <td>extraordinary year australian films shine scoo...</td>\n",
       "      <td>3869</td>\n",
       "    </tr>\n",
       "    <tr>\n",
       "      <th>3</th>\n",
       "      <td>pos</td>\n",
       "      <td>according hollywood movies made last decades l...</td>\n",
       "      <td>5584</td>\n",
       "    </tr>\n",
       "    <tr>\n",
       "      <th>4</th>\n",
       "      <td>neg</td>\n",
       "      <td>first press screening 1998 already ive gotten ...</td>\n",
       "      <td>4327</td>\n",
       "    </tr>\n",
       "  </tbody>\n",
       "</table>\n",
       "</div>"
      ],
      "text/plain": [
       "  label                                             review  length\n",
       "0   neg  films like mouse hunt get theatres isnt law so...    2250\n",
       "1   neg  talented actresses blessed demonstrated wide a...    3503\n",
       "2   pos  extraordinary year australian films shine scoo...    3869\n",
       "3   pos  according hollywood movies made last decades l...    5584\n",
       "4   neg  first press screening 1998 already ive gotten ...    4327"
      ]
     },
     "execution_count": 18,
     "metadata": {},
     "output_type": "execute_result"
    }
   ],
   "source": [
    "df.head()"
   ]
  },
  {
   "cell_type": "code",
   "execution_count": 19,
   "metadata": {},
   "outputs": [
    {
     "data": {
      "text/plain": [
       "'film extraordinarily horrendous im going waste words'"
      ]
     },
     "execution_count": 19,
     "metadata": {},
     "output_type": "execute_result"
    }
   ],
   "source": [
    "df[df['length'] == 92]['review'].iloc[0]"
   ]
  },
  {
   "cell_type": "code",
   "execution_count": 21,
   "metadata": {},
   "outputs": [
    {
     "data": {
      "text/html": [
       "<div>\n",
       "<style scoped>\n",
       "    .dataframe tbody tr th:only-of-type {\n",
       "        vertical-align: middle;\n",
       "    }\n",
       "\n",
       "    .dataframe tbody tr th {\n",
       "        vertical-align: top;\n",
       "    }\n",
       "\n",
       "    .dataframe thead th {\n",
       "        text-align: right;\n",
       "    }\n",
       "</style>\n",
       "<table border=\"1\" class=\"dataframe\">\n",
       "  <thead>\n",
       "    <tr style=\"text-align: right;\">\n",
       "      <th></th>\n",
       "      <th>length</th>\n",
       "    </tr>\n",
       "  </thead>\n",
       "  <tbody>\n",
       "    <tr>\n",
       "      <th>count</th>\n",
       "      <td>1938.000000</td>\n",
       "    </tr>\n",
       "    <tr>\n",
       "      <th>mean</th>\n",
       "      <td>3889.938080</td>\n",
       "    </tr>\n",
       "    <tr>\n",
       "      <th>std</th>\n",
       "      <td>1695.386131</td>\n",
       "    </tr>\n",
       "    <tr>\n",
       "      <th>min</th>\n",
       "      <td>92.000000</td>\n",
       "    </tr>\n",
       "    <tr>\n",
       "      <th>25%</th>\n",
       "      <td>2754.250000</td>\n",
       "    </tr>\n",
       "    <tr>\n",
       "      <th>50%</th>\n",
       "      <td>3631.000000</td>\n",
       "    </tr>\n",
       "    <tr>\n",
       "      <th>75%</th>\n",
       "      <td>4700.000000</td>\n",
       "    </tr>\n",
       "    <tr>\n",
       "      <th>max</th>\n",
       "      <td>15016.000000</td>\n",
       "    </tr>\n",
       "  </tbody>\n",
       "</table>\n",
       "</div>"
      ],
      "text/plain": [
       "             length\n",
       "count   1938.000000\n",
       "mean    3889.938080\n",
       "std     1695.386131\n",
       "min       92.000000\n",
       "25%     2754.250000\n",
       "50%     3631.000000\n",
       "75%     4700.000000\n",
       "max    15016.000000"
      ]
     },
     "execution_count": 21,
     "metadata": {},
     "output_type": "execute_result"
    }
   ],
   "source": [
    "df.describe()"
   ]
  },
  {
   "cell_type": "code",
   "execution_count": 22,
   "metadata": {},
   "outputs": [
    {
     "data": {
      "text/plain": [
       "'films like mouse hunt get theatres isnt law something diabolical load claptrap steven speilbergs dreamworks studio hollywood family fare deadly worst mouse hunt takes bare threads plot tries prop overacting flatout stupid slapstick makes comedies like jingle way look decent comparison writer adam rifkin director gore verbinski names chiefly responsible swill plot worth concerns two brothers nathan lane appalling lee evens inherit poorly run string factory seemingly worthless house eccentric father deciding check longabandoned house soon learn worth fortune set selling auction highest bidder battling every turn smart mouse happy rundown little abode wanting stay way story alternates unfunny scenes brothers bickering inheritance endless action sequences two take increasingly determined furry foe whatever promise film starts soon deteriorates boring dialogue terrible overacting increasingly uninspired slapstick becomes sound fury signifying nothing script becomes unspeakably bad best line poor lee evens utter another run rodent hate mouse oh cringe home alone ten times worse one touching scene early worth mentioning follow mouse maze walls pipes arrives makeshift abode somewhere wall jumps tiny bed pulls makeshift sheet snuggles sleep seemingly happy wanting left alone magical little moment otherwise soulless film message speilberg want dreamworks associated kind artistic credibility either give concerned mouse hunt swift kick arse hire decent writers directors kind rubbish'"
      ]
     },
     "execution_count": 22,
     "metadata": {},
     "output_type": "execute_result"
    }
   ],
   "source": [
    "df['review'][0]"
   ]
  },
  {
   "cell_type": "markdown",
   "metadata": {},
   "source": [
    "## NLTK's VADER Module"
   ]
  },
  {
   "cell_type": "markdown",
   "metadata": {},
   "source": [
    "VADER (Valence Aware Dictionary and sEntiment Reasoner) is a lexicon and rule-based sentiment analysis tool that is specifically attuned to sentiments expressed in social media.\n",
    "VADER is an NLTK module that provides sentiment scores based on words used (\"completely\" boosts a score, while \"slightly\" reduces it), on capitalization & punctuation (\"GREAT!!!\" is stronger than \"great.\"), and negations (words like \"isn't\" and \"doesn't\" affect the outcome)."
   ]
  },
  {
   "cell_type": "markdown",
   "metadata": {},
   "source": [
    "VADER's SentimentIntensityAnalyzer() takes in a string and returns a dictionary of scores in each of four categories:\n",
    "\n",
    "* negative\n",
    "* neutral\n",
    "* positive\n",
    "* compound \n",
    "\n",
    "where the values for each falls between 0 and 1, and compund is the normalized score of the other three mentioned scores.\n",
    "Therefore a compound score of 0 would be completely neutral, a compound score above 0 indicates some sort of positive score and a compound score below 0 indicates negative score."
   ]
  },
  {
   "cell_type": "markdown",
   "metadata": {},
   "source": [
    "It doesn’t require any training data but is constructed from a generalizable, valence-based, human-curated gold standard sentiment lexicon"
   ]
  },
  {
   "cell_type": "code",
   "execution_count": 23,
   "metadata": {},
   "outputs": [],
   "source": [
    "from nltk.sentiment.vader import SentimentIntensityAnalyzer"
   ]
  },
  {
   "cell_type": "code",
   "execution_count": 24,
   "metadata": {},
   "outputs": [],
   "source": [
    "sia = SentimentIntensityAnalyzer()"
   ]
  },
  {
   "cell_type": "code",
   "execution_count": 25,
   "metadata": {},
   "outputs": [],
   "source": [
    "#creating three different columns depicting the VADER score, the coumpound score and the compound label(i.e., positive or negative) respectively\n",
    "df['scores'] = df['review'].apply(lambda review: sia.polarity_scores(review))\n",
    "\n",
    "df['compound'] = df['scores'].apply(lambda score: score['compound'])\n",
    "\n",
    "df['comp_score'] = df['compound'].apply(lambda x: 'pos' if x>=0 else 'neg')"
   ]
  },
  {
   "cell_type": "code",
   "execution_count": 26,
   "metadata": {},
   "outputs": [
    {
     "data": {
      "text/html": [
       "<div>\n",
       "<style scoped>\n",
       "    .dataframe tbody tr th:only-of-type {\n",
       "        vertical-align: middle;\n",
       "    }\n",
       "\n",
       "    .dataframe tbody tr th {\n",
       "        vertical-align: top;\n",
       "    }\n",
       "\n",
       "    .dataframe thead th {\n",
       "        text-align: right;\n",
       "    }\n",
       "</style>\n",
       "<table border=\"1\" class=\"dataframe\">\n",
       "  <thead>\n",
       "    <tr style=\"text-align: right;\">\n",
       "      <th></th>\n",
       "      <th>label</th>\n",
       "      <th>review</th>\n",
       "      <th>length</th>\n",
       "      <th>scores</th>\n",
       "      <th>compound</th>\n",
       "      <th>comp_score</th>\n",
       "    </tr>\n",
       "  </thead>\n",
       "  <tbody>\n",
       "    <tr>\n",
       "      <th>0</th>\n",
       "      <td>neg</td>\n",
       "      <td>films like mouse hunt get theatres isnt law so...</td>\n",
       "      <td>2250</td>\n",
       "      <td>{'neg': 0.167, 'neu': 0.665, 'pos': 0.168, 'co...</td>\n",
       "      <td>-0.4215</td>\n",
       "      <td>neg</td>\n",
       "    </tr>\n",
       "    <tr>\n",
       "      <th>1</th>\n",
       "      <td>neg</td>\n",
       "      <td>talented actresses blessed demonstrated wide a...</td>\n",
       "      <td>3503</td>\n",
       "      <td>{'neg': 0.178, 'neu': 0.668, 'pos': 0.154, 'co...</td>\n",
       "      <td>-0.8996</td>\n",
       "      <td>neg</td>\n",
       "    </tr>\n",
       "    <tr>\n",
       "      <th>2</th>\n",
       "      <td>pos</td>\n",
       "      <td>extraordinary year australian films shine scoo...</td>\n",
       "      <td>3869</td>\n",
       "      <td>{'neg': 0.116, 'neu': 0.642, 'pos': 0.241, 'co...</td>\n",
       "      <td>0.9952</td>\n",
       "      <td>pos</td>\n",
       "    </tr>\n",
       "    <tr>\n",
       "      <th>3</th>\n",
       "      <td>pos</td>\n",
       "      <td>according hollywood movies made last decades l...</td>\n",
       "      <td>5584</td>\n",
       "      <td>{'neg': 0.115, 'neu': 0.683, 'pos': 0.202, 'co...</td>\n",
       "      <td>0.9944</td>\n",
       "      <td>pos</td>\n",
       "    </tr>\n",
       "    <tr>\n",
       "      <th>4</th>\n",
       "      <td>neg</td>\n",
       "      <td>first press screening 1998 already ive gotten ...</td>\n",
       "      <td>4327</td>\n",
       "      <td>{'neg': 0.162, 'neu': 0.696, 'pos': 0.142, 'co...</td>\n",
       "      <td>-0.8947</td>\n",
       "      <td>neg</td>\n",
       "    </tr>\n",
       "  </tbody>\n",
       "</table>\n",
       "</div>"
      ],
      "text/plain": [
       "  label                                             review  length  \\\n",
       "0   neg  films like mouse hunt get theatres isnt law so...    2250   \n",
       "1   neg  talented actresses blessed demonstrated wide a...    3503   \n",
       "2   pos  extraordinary year australian films shine scoo...    3869   \n",
       "3   pos  according hollywood movies made last decades l...    5584   \n",
       "4   neg  first press screening 1998 already ive gotten ...    4327   \n",
       "\n",
       "                                              scores  compound comp_score  \n",
       "0  {'neg': 0.167, 'neu': 0.665, 'pos': 0.168, 'co...   -0.4215        neg  \n",
       "1  {'neg': 0.178, 'neu': 0.668, 'pos': 0.154, 'co...   -0.8996        neg  \n",
       "2  {'neg': 0.116, 'neu': 0.642, 'pos': 0.241, 'co...    0.9952        pos  \n",
       "3  {'neg': 0.115, 'neu': 0.683, 'pos': 0.202, 'co...    0.9944        pos  \n",
       "4  {'neg': 0.162, 'neu': 0.696, 'pos': 0.142, 'co...   -0.8947        neg  "
      ]
     },
     "execution_count": 26,
     "metadata": {},
     "output_type": "execute_result"
    }
   ],
   "source": [
    "df.head()"
   ]
  },
  {
   "cell_type": "markdown",
   "metadata": {},
   "source": [
    "We'll now use scikit learn to determine how close VADER predicts the score as compared to our original data."
   ]
  },
  {
   "cell_type": "code",
   "execution_count": 27,
   "metadata": {},
   "outputs": [
    {
     "name": "stdout",
     "output_type": "stream",
     "text": [
      "0.6171310629514963\n"
     ]
    }
   ],
   "source": [
    "print(accuracy_score(df['label'], df['comp_score']))"
   ]
  },
  {
   "cell_type": "markdown",
   "metadata": {},
   "source": [
    "It looks like VADER couldn't analyse the movie reviews very accurately. This demonstrates one of the biggest challenges in sentiment analysis - understanding human semantics."
   ]
  },
  {
   "cell_type": "markdown",
   "metadata": {},
   "source": [
    "## Splitting the data into training and test data"
   ]
  },
  {
   "cell_type": "code",
   "execution_count": 28,
   "metadata": {},
   "outputs": [],
   "source": [
    "from sklearn.model_selection import train_test_split"
   ]
  },
  {
   "cell_type": "code",
   "execution_count": 29,
   "metadata": {},
   "outputs": [],
   "source": [
    "X = df['review']\n",
    "y = df['label']"
   ]
  },
  {
   "cell_type": "code",
   "execution_count": 30,
   "metadata": {},
   "outputs": [],
   "source": [
    "X_train, X_test, y_train, y_test = train_test_split(X, y, test_size = 0.2, random_state = 100)"
   ]
  },
  {
   "cell_type": "markdown",
   "metadata": {},
   "source": [
    "## Building pipeline to vectorize the data, then train and fit the model"
   ]
  },
  {
   "cell_type": "code",
   "execution_count": 31,
   "metadata": {},
   "outputs": [],
   "source": [
    "from sklearn.pipeline import Pipeline\n",
    "from sklearn.feature_extraction.text import TfidfVectorizer\n",
    "from sklearn.naive_bayes import MultinomialNB\n",
    "from sklearn.svm import LinearSVC"
   ]
  },
  {
   "cell_type": "markdown",
   "metadata": {},
   "source": [
    "**Creating Pipeline with Naive Bayes classifier**"
   ]
  },
  {
   "cell_type": "code",
   "execution_count": 32,
   "metadata": {},
   "outputs": [],
   "source": [
    "text_clf_nb = Pipeline([('tfidf', TfidfVectorizer()),\n",
    "                        ('clf', MultinomialNB())])"
   ]
  },
  {
   "cell_type": "code",
   "execution_count": 33,
   "metadata": {},
   "outputs": [
    {
     "data": {
      "text/plain": [
       "Pipeline(memory=None,\n",
       "     steps=[('tfidf', TfidfVectorizer(analyzer='word', binary=False, decode_error='strict',\n",
       "        dtype=<class 'numpy.float64'>, encoding='utf-8', input='content',\n",
       "        lowercase=True, max_df=1.0, max_features=None, min_df=1,\n",
       "        ngram_range=(1, 1), norm='l2', preprocessor=None, smooth_idf=True,...rue,\n",
       "        vocabulary=None)), ('clf', MultinomialNB(alpha=1.0, class_prior=None, fit_prior=True))])"
      ]
     },
     "execution_count": 33,
     "metadata": {},
     "output_type": "execute_result"
    }
   ],
   "source": [
    "text_clf_nb.fit(X_train, y_train)"
   ]
  },
  {
   "cell_type": "code",
   "execution_count": 34,
   "metadata": {},
   "outputs": [],
   "source": [
    "predict1 = text_clf_nb.predict(X_test)"
   ]
  },
  {
   "cell_type": "markdown",
   "metadata": {},
   "source": [
    "**Creating pipeline with SVM classifier**"
   ]
  },
  {
   "cell_type": "code",
   "execution_count": 35,
   "metadata": {},
   "outputs": [],
   "source": [
    "text_clf_svm = Pipeline([('tfidf',TfidfVectorizer()),\n",
    "                                        ('clf', LinearSVC())])"
   ]
  },
  {
   "cell_type": "code",
   "execution_count": 36,
   "metadata": {},
   "outputs": [
    {
     "data": {
      "text/plain": [
       "Pipeline(memory=None,\n",
       "     steps=[('tfidf', TfidfVectorizer(analyzer='word', binary=False, decode_error='strict',\n",
       "        dtype=<class 'numpy.float64'>, encoding='utf-8', input='content',\n",
       "        lowercase=True, max_df=1.0, max_features=None, min_df=1,\n",
       "        ngram_range=(1, 1), norm='l2', preprocessor=None, smooth_idf=True,...ax_iter=1000,\n",
       "     multi_class='ovr', penalty='l2', random_state=None, tol=0.0001,\n",
       "     verbose=0))])"
      ]
     },
     "execution_count": 36,
     "metadata": {},
     "output_type": "execute_result"
    }
   ],
   "source": [
    "text_clf_svm.fit(X_train, y_train)"
   ]
  },
  {
   "cell_type": "code",
   "execution_count": 37,
   "metadata": {},
   "outputs": [],
   "source": [
    "predict2 = text_clf_svm.predict(X_test)"
   ]
  },
  {
   "cell_type": "markdown",
   "metadata": {},
   "source": [
    "## Evaluating the Model"
   ]
  },
  {
   "cell_type": "code",
   "execution_count": 38,
   "metadata": {},
   "outputs": [
    {
     "name": "stdout",
     "output_type": "stream",
     "text": [
      "~MultinomialNB~\n",
      "\n",
      "[[163  31]\n",
      " [ 48 146]]\n",
      "              precision    recall  f1-score   support\n",
      "\n",
      "         neg       0.77      0.84      0.80       194\n",
      "         pos       0.82      0.75      0.79       194\n",
      "\n",
      "   micro avg       0.80      0.80      0.80       388\n",
      "   macro avg       0.80      0.80      0.80       388\n",
      "weighted avg       0.80      0.80      0.80       388\n",
      "\n",
      "Accuracy Score: 0.7963917525773195\n"
     ]
    }
   ],
   "source": [
    "print(\"~MultinomialNB~\\n\")\n",
    "print(confusion_matrix(y_test, predict1))\n",
    "print(classification_report(y_test, predict1))\n",
    "print('Accuracy Score:', accuracy_score(y_test, predict1))"
   ]
  },
  {
   "cell_type": "code",
   "execution_count": 39,
   "metadata": {},
   "outputs": [
    {
     "name": "stdout",
     "output_type": "stream",
     "text": [
      "~SVM~\n",
      "\n",
      "[[163  31]\n",
      " [ 31 163]]\n",
      "              precision    recall  f1-score   support\n",
      "\n",
      "         neg       0.84      0.84      0.84       194\n",
      "         pos       0.84      0.84      0.84       194\n",
      "\n",
      "   micro avg       0.84      0.84      0.84       388\n",
      "   macro avg       0.84      0.84      0.84       388\n",
      "weighted avg       0.84      0.84      0.84       388\n",
      "\n",
      "Accuracy Score: 0.8402061855670103\n"
     ]
    }
   ],
   "source": [
    "print(\"~SVM~\\n\")\n",
    "print(confusion_matrix(y_test, predict2))\n",
    "print(classification_report(y_test, predict2))\n",
    "print('Accuracy Score:', accuracy_score(y_test, predict2))"
   ]
  },
  {
   "cell_type": "markdown",
   "metadata": {},
   "source": [
    "It seems that the SVM classifier has given better accuracy of 84% as compared to Naive Bayes with accuracy of 79%"
   ]
  },
  {
   "cell_type": "markdown",
   "metadata": {},
   "source": [
    "**Generating WordCloud to visualize the frequency of words that has been** "
   ]
  },
  {
   "cell_type": "code",
   "execution_count": 40,
   "metadata": {},
   "outputs": [],
   "source": [
    "text = \" \".join(rev for rev in df.review)"
   ]
  },
  {
   "cell_type": "code",
   "execution_count": 41,
   "metadata": {},
   "outputs": [
    {
     "data": {
      "image/png": "[encoded data removed]",
      "text/plain": [
       "<Figure size 432x288 with 1 Axes>"
      ]
     },
     "metadata": {
      "needs_background": "light"
     },
     "output_type": "display_data"
    }
   ],
   "source": [
    "stopwords = set(STOPWORDS)\n",
    "# Generate a word cloud image\n",
    "wordcloud = WordCloud(stopwords=stopwords, background_color=\"white\").generate(text)\n",
    "# Display the generated image:\n",
    "# the matplotlib way:\n",
    "plt.imshow(wordcloud, interpolation='bilinear')\n",
    "plt.axis(\"off\")\n",
    "plt.show()"
   ]
  },
  {
   "cell_type": "code",
   "execution_count": 42,
   "metadata": {},
   "outputs": [
    {
     "name": "stdout",
     "output_type": "stream",
     "text": [
      "['neg']\n"
     ]
    }
   ],
   "source": [
    "review = \"This movie was pathetic\"\n",
    "print(text_clf_nb.predict([review]))"
   ]
  },
  {
   "cell_type": "code",
   "execution_count": null,
   "metadata": {},
   "outputs": [],
   "source": []
  }
 ],
 "metadata": {
  "kernelspec": {
   "display_name": "Python 3",
   "language": "python",
   "name": "python3"
  },
  "language_info": {
   "codemirror_mode": {
    "name": "ipython",
    "version": 3
   },
   "file_extension": ".py",
   "mimetype": "text/x-python",
   "name": "python",
   "nbconvert_exporter": "python",
   "pygments_lexer": "ipython3",
   "version": "3.7.1"
  }
 },
 "nbformat": 4,
 "nbformat_minor": 2
}
